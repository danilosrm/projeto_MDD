{
  "cells": [
    {
      "cell_type": "markdown",
      "source": [
        "# **TRABALHO DE DATA SCIENCE**\n",
        "\n",
        "#### PROJETO ESPECIAL\n",
        "#### PROFESSOR: ABRANTES ARAUJO SILVA FILHO\n",
        "#### GRUPO 1: \n",
        "\n",
        "*   DANILO SANCHES REZENDE MORAES\n",
        "*   DAVI DE ALMEIDA\n",
        "*   MARISA CORREA DUARTE\n",
        "\n",
        "#### BASE DE DADOS: PORTO SEGURO\n",
        "#### ORIGEM: KAGGLE\n"
      ],
      "metadata": {
        "id": "pMzd9E81xhaw"
      }
    },
    {
      "cell_type": "markdown",
      "metadata": {
        "id": "XUxUJqKmk35D"
      },
      "source": [
        "#INCLUSÃO DAS BIBLIOTECAS QUE SERÃO NECESSÁRIAS NO DECORRER DO CÓDIGO\n",
        "\n",
        "\n",
        "1.   Pandas: inclusão dos dados em um dataframe\n",
        "2.   Numpy: biblioteca númerica para *comparações*\n",
        "3.   Matplotlib: inclusão da biblioteca *pyplot* para geração de gráficos\n",
        "4.   Seaborn: biblioteca de geração de visualização de dados\n",
        "5.   Sklearn: biblioteca para geração de treino e teste, metricas e matrix confusão\n"
      ]
    },
    {
      "cell_type": "code",
      "execution_count": null,
      "metadata": {
        "id": "waL_5c-yw6yh"
      },
      "outputs": [],
      "source": [
        "#!pip install sweetviz"
      ]
    },
    {
      "cell_type": "code",
      "execution_count": null,
      "metadata": {
        "id": "oKFLdcHhRmzt"
      },
      "outputs": [],
      "source": [
        "import pandas as pd\n",
        "import numpy as np\n",
        "import matplotlib.pyplot as plt\n",
        "import seaborn as sns\n",
        "from sklearn.model_selection import train_test_split\n",
        "from sklearn.metrics import confusion_matrix, ConfusionMatrixDisplay\n",
        "from sklearn import metrics\n",
        "\n",
        "#import sweetviz as xx\n"
      ]
    },
    {
      "cell_type": "markdown",
      "metadata": {
        "id": "RXTTsM55lqhK"
      },
      "source": [
        "#CARGA DOS ARQUIVOS DE TREINO\n",
        "\n",
        "- Devido ao tamanho original do arquivo foi necessário particioná-lo em 2 para que o Github aceitasse os arquivos e pudessemos fazer uma leitura direta dele no local de armazenamento, independente do programa gerar de código usado."
      ]
    },
    {
      "cell_type": "code",
      "execution_count": null,
      "metadata": {
        "colab": {
          "base_uri": "https://localhost:8080/",
          "height": 470
        },
        "id": "Gn23ECeyQGhY",
        "outputId": "22b91b40-2aa9-47a9-9e6d-5016cea06bdd"
      },
      "outputs": [
        {
          "output_type": "stream",
          "name": "stderr",
          "text": [
            "/usr/local/lib/python3.7/dist-packages/IPython/core/interactiveshell.py:2882: FutureWarning: The error_bad_lines argument has been deprecated and will be removed in a future version.\n",
            "\n",
            "\n",
            "  exec(code_obj, self.user_global_ns, self.user_ns)\n"
          ]
        },
        {
          "output_type": "error",
          "ename": "KeyboardInterrupt",
          "evalue": "ignored",
          "traceback": [
            "\u001b[0;31m---------------------------------------------------------------------------\u001b[0m",
            "\u001b[0;31mKeyboardInterrupt\u001b[0m                         Traceback (most recent call last)",
            "\u001b[0;32m<ipython-input-107-487b1df939f9>\u001b[0m in \u001b[0;36m<module>\u001b[0;34m()\u001b[0m\n\u001b[1;32m      2\u001b[0m \u001b[0murl\u001b[0m \u001b[0;34m=\u001b[0m \u001b[0;34m'https://raw.githubusercontent.com/danilosrm/projeto_MDD/main/00%20-%20FONTES/01%20-%20TRAIN/train_01.csv'\u001b[0m\u001b[0;34m\u001b[0m\u001b[0;34m\u001b[0m\u001b[0m\n\u001b[1;32m      3\u001b[0m \u001b[0;34m\u001b[0m\u001b[0m\n\u001b[0;32m----> 4\u001b[0;31m \u001b[0mdf_train\u001b[0m \u001b[0;34m=\u001b[0m \u001b[0mpd\u001b[0m\u001b[0;34m.\u001b[0m\u001b[0mread_csv\u001b[0m\u001b[0;34m(\u001b[0m\u001b[0murl\u001b[0m\u001b[0;34m,\u001b[0m \u001b[0merror_bad_lines\u001b[0m\u001b[0;34m=\u001b[0m\u001b[0;32mFalse\u001b[0m\u001b[0;34m,\u001b[0m \u001b[0mdelimiter\u001b[0m\u001b[0;34m=\u001b[0m\u001b[0;34m';'\u001b[0m\u001b[0;34m)\u001b[0m\u001b[0;34m\u001b[0m\u001b[0;34m\u001b[0m\u001b[0m\n\u001b[0m\u001b[1;32m      5\u001b[0m \u001b[0mprint\u001b[0m\u001b[0;34m(\u001b[0m\u001b[0;34m'Quantidade registro da primeira parte: '\u001b[0m\u001b[0;34m,\u001b[0m \u001b[0mdf_train\u001b[0m\u001b[0;34m[\u001b[0m\u001b[0;34m'id'\u001b[0m\u001b[0;34m]\u001b[0m\u001b[0;34m.\u001b[0m\u001b[0mcount\u001b[0m\u001b[0;34m(\u001b[0m\u001b[0;34m)\u001b[0m\u001b[0;34m)\u001b[0m\u001b[0;34m\u001b[0m\u001b[0;34m\u001b[0m\u001b[0m\n\u001b[1;32m      6\u001b[0m \u001b[0;34m\u001b[0m\u001b[0m\n",
            "\u001b[0;32m/usr/local/lib/python3.7/dist-packages/pandas/util/_decorators.py\u001b[0m in \u001b[0;36mwrapper\u001b[0;34m(*args, **kwargs)\u001b[0m\n\u001b[1;32m    309\u001b[0m                     \u001b[0mstacklevel\u001b[0m\u001b[0;34m=\u001b[0m\u001b[0mstacklevel\u001b[0m\u001b[0;34m,\u001b[0m\u001b[0;34m\u001b[0m\u001b[0;34m\u001b[0m\u001b[0m\n\u001b[1;32m    310\u001b[0m                 )\n\u001b[0;32m--> 311\u001b[0;31m             \u001b[0;32mreturn\u001b[0m \u001b[0mfunc\u001b[0m\u001b[0;34m(\u001b[0m\u001b[0;34m*\u001b[0m\u001b[0margs\u001b[0m\u001b[0;34m,\u001b[0m \u001b[0;34m**\u001b[0m\u001b[0mkwargs\u001b[0m\u001b[0;34m)\u001b[0m\u001b[0;34m\u001b[0m\u001b[0;34m\u001b[0m\u001b[0m\n\u001b[0m\u001b[1;32m    312\u001b[0m \u001b[0;34m\u001b[0m\u001b[0m\n\u001b[1;32m    313\u001b[0m         \u001b[0;32mreturn\u001b[0m \u001b[0mwrapper\u001b[0m\u001b[0;34m\u001b[0m\u001b[0;34m\u001b[0m\u001b[0m\n",
            "\u001b[0;32m/usr/local/lib/python3.7/dist-packages/pandas/io/parsers/readers.py\u001b[0m in \u001b[0;36mread_csv\u001b[0;34m(filepath_or_buffer, sep, delimiter, header, names, index_col, usecols, squeeze, prefix, mangle_dupe_cols, dtype, engine, converters, true_values, false_values, skipinitialspace, skiprows, skipfooter, nrows, na_values, keep_default_na, na_filter, verbose, skip_blank_lines, parse_dates, infer_datetime_format, keep_date_col, date_parser, dayfirst, cache_dates, iterator, chunksize, compression, thousands, decimal, lineterminator, quotechar, quoting, doublequote, escapechar, comment, encoding, encoding_errors, dialect, error_bad_lines, warn_bad_lines, on_bad_lines, delim_whitespace, low_memory, memory_map, float_precision, storage_options)\u001b[0m\n\u001b[1;32m    584\u001b[0m     \u001b[0mkwds\u001b[0m\u001b[0;34m.\u001b[0m\u001b[0mupdate\u001b[0m\u001b[0;34m(\u001b[0m\u001b[0mkwds_defaults\u001b[0m\u001b[0;34m)\u001b[0m\u001b[0;34m\u001b[0m\u001b[0;34m\u001b[0m\u001b[0m\n\u001b[1;32m    585\u001b[0m \u001b[0;34m\u001b[0m\u001b[0m\n\u001b[0;32m--> 586\u001b[0;31m     \u001b[0;32mreturn\u001b[0m \u001b[0m_read\u001b[0m\u001b[0;34m(\u001b[0m\u001b[0mfilepath_or_buffer\u001b[0m\u001b[0;34m,\u001b[0m \u001b[0mkwds\u001b[0m\u001b[0;34m)\u001b[0m\u001b[0;34m\u001b[0m\u001b[0;34m\u001b[0m\u001b[0m\n\u001b[0m\u001b[1;32m    587\u001b[0m \u001b[0;34m\u001b[0m\u001b[0m\n\u001b[1;32m    588\u001b[0m \u001b[0;34m\u001b[0m\u001b[0m\n",
            "\u001b[0;32m/usr/local/lib/python3.7/dist-packages/pandas/io/parsers/readers.py\u001b[0m in \u001b[0;36m_read\u001b[0;34m(filepath_or_buffer, kwds)\u001b[0m\n\u001b[1;32m    480\u001b[0m \u001b[0;34m\u001b[0m\u001b[0m\n\u001b[1;32m    481\u001b[0m     \u001b[0;31m# Create the parser.\u001b[0m\u001b[0;34m\u001b[0m\u001b[0;34m\u001b[0m\u001b[0;34m\u001b[0m\u001b[0m\n\u001b[0;32m--> 482\u001b[0;31m     \u001b[0mparser\u001b[0m \u001b[0;34m=\u001b[0m \u001b[0mTextFileReader\u001b[0m\u001b[0;34m(\u001b[0m\u001b[0mfilepath_or_buffer\u001b[0m\u001b[0;34m,\u001b[0m \u001b[0;34m**\u001b[0m\u001b[0mkwds\u001b[0m\u001b[0;34m)\u001b[0m\u001b[0;34m\u001b[0m\u001b[0;34m\u001b[0m\u001b[0m\n\u001b[0m\u001b[1;32m    483\u001b[0m \u001b[0;34m\u001b[0m\u001b[0m\n\u001b[1;32m    484\u001b[0m     \u001b[0;32mif\u001b[0m \u001b[0mchunksize\u001b[0m \u001b[0;32mor\u001b[0m \u001b[0miterator\u001b[0m\u001b[0;34m:\u001b[0m\u001b[0;34m\u001b[0m\u001b[0;34m\u001b[0m\u001b[0m\n",
            "\u001b[0;32m/usr/local/lib/python3.7/dist-packages/pandas/io/parsers/readers.py\u001b[0m in \u001b[0;36m__init__\u001b[0;34m(self, f, engine, **kwds)\u001b[0m\n\u001b[1;32m    809\u001b[0m             \u001b[0mself\u001b[0m\u001b[0;34m.\u001b[0m\u001b[0moptions\u001b[0m\u001b[0;34m[\u001b[0m\u001b[0;34m\"has_index_names\"\u001b[0m\u001b[0;34m]\u001b[0m \u001b[0;34m=\u001b[0m \u001b[0mkwds\u001b[0m\u001b[0;34m[\u001b[0m\u001b[0;34m\"has_index_names\"\u001b[0m\u001b[0;34m]\u001b[0m\u001b[0;34m\u001b[0m\u001b[0;34m\u001b[0m\u001b[0m\n\u001b[1;32m    810\u001b[0m \u001b[0;34m\u001b[0m\u001b[0m\n\u001b[0;32m--> 811\u001b[0;31m         \u001b[0mself\u001b[0m\u001b[0;34m.\u001b[0m\u001b[0m_engine\u001b[0m \u001b[0;34m=\u001b[0m \u001b[0mself\u001b[0m\u001b[0;34m.\u001b[0m\u001b[0m_make_engine\u001b[0m\u001b[0;34m(\u001b[0m\u001b[0mself\u001b[0m\u001b[0;34m.\u001b[0m\u001b[0mengine\u001b[0m\u001b[0;34m)\u001b[0m\u001b[0;34m\u001b[0m\u001b[0;34m\u001b[0m\u001b[0m\n\u001b[0m\u001b[1;32m    812\u001b[0m \u001b[0;34m\u001b[0m\u001b[0m\n\u001b[1;32m    813\u001b[0m     \u001b[0;32mdef\u001b[0m \u001b[0mclose\u001b[0m\u001b[0;34m(\u001b[0m\u001b[0mself\u001b[0m\u001b[0;34m)\u001b[0m\u001b[0;34m:\u001b[0m\u001b[0;34m\u001b[0m\u001b[0;34m\u001b[0m\u001b[0m\n",
            "\u001b[0;32m/usr/local/lib/python3.7/dist-packages/pandas/io/parsers/readers.py\u001b[0m in \u001b[0;36m_make_engine\u001b[0;34m(self, engine)\u001b[0m\n\u001b[1;32m   1038\u001b[0m             )\n\u001b[1;32m   1039\u001b[0m         \u001b[0;31m# error: Too many arguments for \"ParserBase\"\u001b[0m\u001b[0;34m\u001b[0m\u001b[0;34m\u001b[0m\u001b[0;34m\u001b[0m\u001b[0m\n\u001b[0;32m-> 1040\u001b[0;31m         \u001b[0;32mreturn\u001b[0m \u001b[0mmapping\u001b[0m\u001b[0;34m[\u001b[0m\u001b[0mengine\u001b[0m\u001b[0;34m]\u001b[0m\u001b[0;34m(\u001b[0m\u001b[0mself\u001b[0m\u001b[0;34m.\u001b[0m\u001b[0mf\u001b[0m\u001b[0;34m,\u001b[0m \u001b[0;34m**\u001b[0m\u001b[0mself\u001b[0m\u001b[0;34m.\u001b[0m\u001b[0moptions\u001b[0m\u001b[0;34m)\u001b[0m  \u001b[0;31m# type: ignore[call-arg]\u001b[0m\u001b[0;34m\u001b[0m\u001b[0;34m\u001b[0m\u001b[0m\n\u001b[0m\u001b[1;32m   1041\u001b[0m \u001b[0;34m\u001b[0m\u001b[0m\n\u001b[1;32m   1042\u001b[0m     \u001b[0;32mdef\u001b[0m \u001b[0m_failover_to_python\u001b[0m\u001b[0;34m(\u001b[0m\u001b[0mself\u001b[0m\u001b[0;34m)\u001b[0m\u001b[0;34m:\u001b[0m\u001b[0;34m\u001b[0m\u001b[0;34m\u001b[0m\u001b[0m\n",
            "\u001b[0;32m/usr/local/lib/python3.7/dist-packages/pandas/io/parsers/c_parser_wrapper.py\u001b[0m in \u001b[0;36m__init__\u001b[0;34m(self, src, **kwds)\u001b[0m\n\u001b[1;32m     49\u001b[0m \u001b[0;34m\u001b[0m\u001b[0m\n\u001b[1;32m     50\u001b[0m         \u001b[0;31m# open handles\u001b[0m\u001b[0;34m\u001b[0m\u001b[0;34m\u001b[0m\u001b[0;34m\u001b[0m\u001b[0m\n\u001b[0;32m---> 51\u001b[0;31m         \u001b[0mself\u001b[0m\u001b[0;34m.\u001b[0m\u001b[0m_open_handles\u001b[0m\u001b[0;34m(\u001b[0m\u001b[0msrc\u001b[0m\u001b[0;34m,\u001b[0m \u001b[0mkwds\u001b[0m\u001b[0;34m)\u001b[0m\u001b[0;34m\u001b[0m\u001b[0;34m\u001b[0m\u001b[0m\n\u001b[0m\u001b[1;32m     52\u001b[0m         \u001b[0;32massert\u001b[0m \u001b[0mself\u001b[0m\u001b[0;34m.\u001b[0m\u001b[0mhandles\u001b[0m \u001b[0;32mis\u001b[0m \u001b[0;32mnot\u001b[0m \u001b[0;32mNone\u001b[0m\u001b[0;34m\u001b[0m\u001b[0;34m\u001b[0m\u001b[0m\n\u001b[1;32m     53\u001b[0m \u001b[0;34m\u001b[0m\u001b[0m\n",
            "\u001b[0;32m/usr/local/lib/python3.7/dist-packages/pandas/io/parsers/base_parser.py\u001b[0m in \u001b[0;36m_open_handles\u001b[0;34m(self, src, kwds)\u001b[0m\n\u001b[1;32m    227\u001b[0m             \u001b[0mmemory_map\u001b[0m\u001b[0;34m=\u001b[0m\u001b[0mkwds\u001b[0m\u001b[0;34m.\u001b[0m\u001b[0mget\u001b[0m\u001b[0;34m(\u001b[0m\u001b[0;34m\"memory_map\"\u001b[0m\u001b[0;34m,\u001b[0m \u001b[0;32mFalse\u001b[0m\u001b[0;34m)\u001b[0m\u001b[0;34m,\u001b[0m\u001b[0;34m\u001b[0m\u001b[0;34m\u001b[0m\u001b[0m\n\u001b[1;32m    228\u001b[0m             \u001b[0mstorage_options\u001b[0m\u001b[0;34m=\u001b[0m\u001b[0mkwds\u001b[0m\u001b[0;34m.\u001b[0m\u001b[0mget\u001b[0m\u001b[0;34m(\u001b[0m\u001b[0;34m\"storage_options\"\u001b[0m\u001b[0;34m,\u001b[0m \u001b[0;32mNone\u001b[0m\u001b[0;34m)\u001b[0m\u001b[0;34m,\u001b[0m\u001b[0;34m\u001b[0m\u001b[0;34m\u001b[0m\u001b[0m\n\u001b[0;32m--> 229\u001b[0;31m             \u001b[0merrors\u001b[0m\u001b[0;34m=\u001b[0m\u001b[0mkwds\u001b[0m\u001b[0;34m.\u001b[0m\u001b[0mget\u001b[0m\u001b[0;34m(\u001b[0m\u001b[0;34m\"encoding_errors\"\u001b[0m\u001b[0;34m,\u001b[0m \u001b[0;34m\"strict\"\u001b[0m\u001b[0;34m)\u001b[0m\u001b[0;34m,\u001b[0m\u001b[0;34m\u001b[0m\u001b[0;34m\u001b[0m\u001b[0m\n\u001b[0m\u001b[1;32m    230\u001b[0m         )\n\u001b[1;32m    231\u001b[0m \u001b[0;34m\u001b[0m\u001b[0m\n",
            "\u001b[0;32m/usr/local/lib/python3.7/dist-packages/pandas/io/common.py\u001b[0m in \u001b[0;36mget_handle\u001b[0;34m(path_or_buf, mode, encoding, compression, memory_map, is_text, errors, storage_options)\u001b[0m\n\u001b[1;32m    612\u001b[0m         \u001b[0mcompression\u001b[0m\u001b[0;34m=\u001b[0m\u001b[0mcompression\u001b[0m\u001b[0;34m,\u001b[0m\u001b[0;34m\u001b[0m\u001b[0;34m\u001b[0m\u001b[0m\n\u001b[1;32m    613\u001b[0m         \u001b[0mmode\u001b[0m\u001b[0;34m=\u001b[0m\u001b[0mmode\u001b[0m\u001b[0;34m,\u001b[0m\u001b[0;34m\u001b[0m\u001b[0;34m\u001b[0m\u001b[0m\n\u001b[0;32m--> 614\u001b[0;31m         \u001b[0mstorage_options\u001b[0m\u001b[0;34m=\u001b[0m\u001b[0mstorage_options\u001b[0m\u001b[0;34m,\u001b[0m\u001b[0;34m\u001b[0m\u001b[0;34m\u001b[0m\u001b[0m\n\u001b[0m\u001b[1;32m    615\u001b[0m     )\n\u001b[1;32m    616\u001b[0m \u001b[0;34m\u001b[0m\u001b[0m\n",
            "\u001b[0;32m/usr/local/lib/python3.7/dist-packages/pandas/io/common.py\u001b[0m in \u001b[0;36m_get_filepath_or_buffer\u001b[0;34m(filepath_or_buffer, encoding, compression, mode, storage_options)\u001b[0m\n\u001b[1;32m    310\u001b[0m         \u001b[0;31m# assuming storage_options is to be interpreted as headers\u001b[0m\u001b[0;34m\u001b[0m\u001b[0;34m\u001b[0m\u001b[0;34m\u001b[0m\u001b[0m\n\u001b[1;32m    311\u001b[0m         \u001b[0mreq_info\u001b[0m \u001b[0;34m=\u001b[0m \u001b[0murllib\u001b[0m\u001b[0;34m.\u001b[0m\u001b[0mrequest\u001b[0m\u001b[0;34m.\u001b[0m\u001b[0mRequest\u001b[0m\u001b[0;34m(\u001b[0m\u001b[0mfilepath_or_buffer\u001b[0m\u001b[0;34m,\u001b[0m \u001b[0mheaders\u001b[0m\u001b[0;34m=\u001b[0m\u001b[0mstorage_options\u001b[0m\u001b[0;34m)\u001b[0m\u001b[0;34m\u001b[0m\u001b[0;34m\u001b[0m\u001b[0m\n\u001b[0;32m--> 312\u001b[0;31m         \u001b[0;32mwith\u001b[0m \u001b[0murlopen\u001b[0m\u001b[0;34m(\u001b[0m\u001b[0mreq_info\u001b[0m\u001b[0;34m)\u001b[0m \u001b[0;32mas\u001b[0m \u001b[0mreq\u001b[0m\u001b[0;34m:\u001b[0m\u001b[0;34m\u001b[0m\u001b[0;34m\u001b[0m\u001b[0m\n\u001b[0m\u001b[1;32m    313\u001b[0m             \u001b[0mcontent_encoding\u001b[0m \u001b[0;34m=\u001b[0m \u001b[0mreq\u001b[0m\u001b[0;34m.\u001b[0m\u001b[0mheaders\u001b[0m\u001b[0;34m.\u001b[0m\u001b[0mget\u001b[0m\u001b[0;34m(\u001b[0m\u001b[0;34m\"Content-Encoding\"\u001b[0m\u001b[0;34m,\u001b[0m \u001b[0;32mNone\u001b[0m\u001b[0;34m)\u001b[0m\u001b[0;34m\u001b[0m\u001b[0;34m\u001b[0m\u001b[0m\n\u001b[1;32m    314\u001b[0m             \u001b[0;32mif\u001b[0m \u001b[0mcontent_encoding\u001b[0m \u001b[0;34m==\u001b[0m \u001b[0;34m\"gzip\"\u001b[0m\u001b[0;34m:\u001b[0m\u001b[0;34m\u001b[0m\u001b[0;34m\u001b[0m\u001b[0m\n",
            "\u001b[0;32m/usr/local/lib/python3.7/dist-packages/pandas/io/common.py\u001b[0m in \u001b[0;36murlopen\u001b[0;34m(*args, **kwargs)\u001b[0m\n\u001b[1;32m    210\u001b[0m     \u001b[0;32mimport\u001b[0m \u001b[0murllib\u001b[0m\u001b[0;34m.\u001b[0m\u001b[0mrequest\u001b[0m\u001b[0;34m\u001b[0m\u001b[0;34m\u001b[0m\u001b[0m\n\u001b[1;32m    211\u001b[0m \u001b[0;34m\u001b[0m\u001b[0m\n\u001b[0;32m--> 212\u001b[0;31m     \u001b[0;32mreturn\u001b[0m \u001b[0murllib\u001b[0m\u001b[0;34m.\u001b[0m\u001b[0mrequest\u001b[0m\u001b[0;34m.\u001b[0m\u001b[0murlopen\u001b[0m\u001b[0;34m(\u001b[0m\u001b[0;34m*\u001b[0m\u001b[0margs\u001b[0m\u001b[0;34m,\u001b[0m \u001b[0;34m**\u001b[0m\u001b[0mkwargs\u001b[0m\u001b[0;34m)\u001b[0m\u001b[0;34m\u001b[0m\u001b[0;34m\u001b[0m\u001b[0m\n\u001b[0m\u001b[1;32m    213\u001b[0m \u001b[0;34m\u001b[0m\u001b[0m\n\u001b[1;32m    214\u001b[0m \u001b[0;34m\u001b[0m\u001b[0m\n",
            "\u001b[0;32m/usr/lib/python3.7/urllib/request.py\u001b[0m in \u001b[0;36murlopen\u001b[0;34m(url, data, timeout, cafile, capath, cadefault, context)\u001b[0m\n\u001b[1;32m    220\u001b[0m     \u001b[0;32melse\u001b[0m\u001b[0;34m:\u001b[0m\u001b[0;34m\u001b[0m\u001b[0;34m\u001b[0m\u001b[0m\n\u001b[1;32m    221\u001b[0m         \u001b[0mopener\u001b[0m \u001b[0;34m=\u001b[0m \u001b[0m_opener\u001b[0m\u001b[0;34m\u001b[0m\u001b[0;34m\u001b[0m\u001b[0m\n\u001b[0;32m--> 222\u001b[0;31m     \u001b[0;32mreturn\u001b[0m \u001b[0mopener\u001b[0m\u001b[0;34m.\u001b[0m\u001b[0mopen\u001b[0m\u001b[0;34m(\u001b[0m\u001b[0murl\u001b[0m\u001b[0;34m,\u001b[0m \u001b[0mdata\u001b[0m\u001b[0;34m,\u001b[0m \u001b[0mtimeout\u001b[0m\u001b[0;34m)\u001b[0m\u001b[0;34m\u001b[0m\u001b[0;34m\u001b[0m\u001b[0m\n\u001b[0m\u001b[1;32m    223\u001b[0m \u001b[0;34m\u001b[0m\u001b[0m\n\u001b[1;32m    224\u001b[0m \u001b[0;32mdef\u001b[0m \u001b[0minstall_opener\u001b[0m\u001b[0;34m(\u001b[0m\u001b[0mopener\u001b[0m\u001b[0;34m)\u001b[0m\u001b[0;34m:\u001b[0m\u001b[0;34m\u001b[0m\u001b[0;34m\u001b[0m\u001b[0m\n",
            "\u001b[0;32m/usr/lib/python3.7/urllib/request.py\u001b[0m in \u001b[0;36mopen\u001b[0;34m(self, fullurl, data, timeout)\u001b[0m\n\u001b[1;32m    523\u001b[0m             \u001b[0mreq\u001b[0m \u001b[0;34m=\u001b[0m \u001b[0mmeth\u001b[0m\u001b[0;34m(\u001b[0m\u001b[0mreq\u001b[0m\u001b[0;34m)\u001b[0m\u001b[0;34m\u001b[0m\u001b[0;34m\u001b[0m\u001b[0m\n\u001b[1;32m    524\u001b[0m \u001b[0;34m\u001b[0m\u001b[0m\n\u001b[0;32m--> 525\u001b[0;31m         \u001b[0mresponse\u001b[0m \u001b[0;34m=\u001b[0m \u001b[0mself\u001b[0m\u001b[0;34m.\u001b[0m\u001b[0m_open\u001b[0m\u001b[0;34m(\u001b[0m\u001b[0mreq\u001b[0m\u001b[0;34m,\u001b[0m \u001b[0mdata\u001b[0m\u001b[0;34m)\u001b[0m\u001b[0;34m\u001b[0m\u001b[0;34m\u001b[0m\u001b[0m\n\u001b[0m\u001b[1;32m    526\u001b[0m \u001b[0;34m\u001b[0m\u001b[0m\n\u001b[1;32m    527\u001b[0m         \u001b[0;31m# post-process response\u001b[0m\u001b[0;34m\u001b[0m\u001b[0;34m\u001b[0m\u001b[0;34m\u001b[0m\u001b[0m\n",
            "\u001b[0;32m/usr/lib/python3.7/urllib/request.py\u001b[0m in \u001b[0;36m_open\u001b[0;34m(self, req, data)\u001b[0m\n\u001b[1;32m    541\u001b[0m         \u001b[0mprotocol\u001b[0m \u001b[0;34m=\u001b[0m \u001b[0mreq\u001b[0m\u001b[0;34m.\u001b[0m\u001b[0mtype\u001b[0m\u001b[0;34m\u001b[0m\u001b[0;34m\u001b[0m\u001b[0m\n\u001b[1;32m    542\u001b[0m         result = self._call_chain(self.handle_open, protocol, protocol +\n\u001b[0;32m--> 543\u001b[0;31m                                   '_open', req)\n\u001b[0m\u001b[1;32m    544\u001b[0m         \u001b[0;32mif\u001b[0m \u001b[0mresult\u001b[0m\u001b[0;34m:\u001b[0m\u001b[0;34m\u001b[0m\u001b[0;34m\u001b[0m\u001b[0m\n\u001b[1;32m    545\u001b[0m             \u001b[0;32mreturn\u001b[0m \u001b[0mresult\u001b[0m\u001b[0;34m\u001b[0m\u001b[0;34m\u001b[0m\u001b[0m\n",
            "\u001b[0;32m/usr/lib/python3.7/urllib/request.py\u001b[0m in \u001b[0;36m_call_chain\u001b[0;34m(self, chain, kind, meth_name, *args)\u001b[0m\n\u001b[1;32m    501\u001b[0m         \u001b[0;32mfor\u001b[0m \u001b[0mhandler\u001b[0m \u001b[0;32min\u001b[0m \u001b[0mhandlers\u001b[0m\u001b[0;34m:\u001b[0m\u001b[0;34m\u001b[0m\u001b[0;34m\u001b[0m\u001b[0m\n\u001b[1;32m    502\u001b[0m             \u001b[0mfunc\u001b[0m \u001b[0;34m=\u001b[0m \u001b[0mgetattr\u001b[0m\u001b[0;34m(\u001b[0m\u001b[0mhandler\u001b[0m\u001b[0;34m,\u001b[0m \u001b[0mmeth_name\u001b[0m\u001b[0;34m)\u001b[0m\u001b[0;34m\u001b[0m\u001b[0;34m\u001b[0m\u001b[0m\n\u001b[0;32m--> 503\u001b[0;31m             \u001b[0mresult\u001b[0m \u001b[0;34m=\u001b[0m \u001b[0mfunc\u001b[0m\u001b[0;34m(\u001b[0m\u001b[0;34m*\u001b[0m\u001b[0margs\u001b[0m\u001b[0;34m)\u001b[0m\u001b[0;34m\u001b[0m\u001b[0;34m\u001b[0m\u001b[0m\n\u001b[0m\u001b[1;32m    504\u001b[0m             \u001b[0;32mif\u001b[0m \u001b[0mresult\u001b[0m \u001b[0;32mis\u001b[0m \u001b[0;32mnot\u001b[0m \u001b[0;32mNone\u001b[0m\u001b[0;34m:\u001b[0m\u001b[0;34m\u001b[0m\u001b[0;34m\u001b[0m\u001b[0m\n\u001b[1;32m    505\u001b[0m                 \u001b[0;32mreturn\u001b[0m \u001b[0mresult\u001b[0m\u001b[0;34m\u001b[0m\u001b[0;34m\u001b[0m\u001b[0m\n",
            "\u001b[0;32m/usr/lib/python3.7/urllib/request.py\u001b[0m in \u001b[0;36mhttps_open\u001b[0;34m(self, req)\u001b[0m\n\u001b[1;32m   1391\u001b[0m         \u001b[0;32mdef\u001b[0m \u001b[0mhttps_open\u001b[0m\u001b[0;34m(\u001b[0m\u001b[0mself\u001b[0m\u001b[0;34m,\u001b[0m \u001b[0mreq\u001b[0m\u001b[0;34m)\u001b[0m\u001b[0;34m:\u001b[0m\u001b[0;34m\u001b[0m\u001b[0;34m\u001b[0m\u001b[0m\n\u001b[1;32m   1392\u001b[0m             return self.do_open(http.client.HTTPSConnection, req,\n\u001b[0;32m-> 1393\u001b[0;31m                 context=self._context, check_hostname=self._check_hostname)\n\u001b[0m\u001b[1;32m   1394\u001b[0m \u001b[0;34m\u001b[0m\u001b[0m\n\u001b[1;32m   1395\u001b[0m         \u001b[0mhttps_request\u001b[0m \u001b[0;34m=\u001b[0m \u001b[0mAbstractHTTPHandler\u001b[0m\u001b[0;34m.\u001b[0m\u001b[0mdo_request_\u001b[0m\u001b[0;34m\u001b[0m\u001b[0;34m\u001b[0m\u001b[0m\n",
            "\u001b[0;32m/usr/lib/python3.7/urllib/request.py\u001b[0m in \u001b[0;36mdo_open\u001b[0;34m(self, http_class, req, **http_conn_args)\u001b[0m\n\u001b[1;32m   1351\u001b[0m             \u001b[0;32mexcept\u001b[0m \u001b[0mOSError\u001b[0m \u001b[0;32mas\u001b[0m \u001b[0merr\u001b[0m\u001b[0;34m:\u001b[0m \u001b[0;31m# timeout error\u001b[0m\u001b[0;34m\u001b[0m\u001b[0;34m\u001b[0m\u001b[0m\n\u001b[1;32m   1352\u001b[0m                 \u001b[0;32mraise\u001b[0m \u001b[0mURLError\u001b[0m\u001b[0;34m(\u001b[0m\u001b[0merr\u001b[0m\u001b[0;34m)\u001b[0m\u001b[0;34m\u001b[0m\u001b[0;34m\u001b[0m\u001b[0m\n\u001b[0;32m-> 1353\u001b[0;31m             \u001b[0mr\u001b[0m \u001b[0;34m=\u001b[0m \u001b[0mh\u001b[0m\u001b[0;34m.\u001b[0m\u001b[0mgetresponse\u001b[0m\u001b[0;34m(\u001b[0m\u001b[0;34m)\u001b[0m\u001b[0;34m\u001b[0m\u001b[0;34m\u001b[0m\u001b[0m\n\u001b[0m\u001b[1;32m   1354\u001b[0m         \u001b[0;32mexcept\u001b[0m\u001b[0;34m:\u001b[0m\u001b[0;34m\u001b[0m\u001b[0;34m\u001b[0m\u001b[0m\n\u001b[1;32m   1355\u001b[0m             \u001b[0mh\u001b[0m\u001b[0;34m.\u001b[0m\u001b[0mclose\u001b[0m\u001b[0;34m(\u001b[0m\u001b[0;34m)\u001b[0m\u001b[0;34m\u001b[0m\u001b[0;34m\u001b[0m\u001b[0m\n",
            "\u001b[0;32m/usr/lib/python3.7/http/client.py\u001b[0m in \u001b[0;36mgetresponse\u001b[0;34m(self)\u001b[0m\n\u001b[1;32m   1371\u001b[0m         \u001b[0;32mtry\u001b[0m\u001b[0;34m:\u001b[0m\u001b[0;34m\u001b[0m\u001b[0;34m\u001b[0m\u001b[0m\n\u001b[1;32m   1372\u001b[0m             \u001b[0;32mtry\u001b[0m\u001b[0;34m:\u001b[0m\u001b[0;34m\u001b[0m\u001b[0;34m\u001b[0m\u001b[0m\n\u001b[0;32m-> 1373\u001b[0;31m                 \u001b[0mresponse\u001b[0m\u001b[0;34m.\u001b[0m\u001b[0mbegin\u001b[0m\u001b[0;34m(\u001b[0m\u001b[0;34m)\u001b[0m\u001b[0;34m\u001b[0m\u001b[0;34m\u001b[0m\u001b[0m\n\u001b[0m\u001b[1;32m   1374\u001b[0m             \u001b[0;32mexcept\u001b[0m \u001b[0mConnectionError\u001b[0m\u001b[0;34m:\u001b[0m\u001b[0;34m\u001b[0m\u001b[0;34m\u001b[0m\u001b[0m\n\u001b[1;32m   1375\u001b[0m                 \u001b[0mself\u001b[0m\u001b[0;34m.\u001b[0m\u001b[0mclose\u001b[0m\u001b[0;34m(\u001b[0m\u001b[0;34m)\u001b[0m\u001b[0;34m\u001b[0m\u001b[0;34m\u001b[0m\u001b[0m\n",
            "\u001b[0;32m/usr/lib/python3.7/http/client.py\u001b[0m in \u001b[0;36mbegin\u001b[0;34m(self)\u001b[0m\n\u001b[1;32m    317\u001b[0m         \u001b[0;31m# read until we get a non-100 response\u001b[0m\u001b[0;34m\u001b[0m\u001b[0;34m\u001b[0m\u001b[0;34m\u001b[0m\u001b[0m\n\u001b[1;32m    318\u001b[0m         \u001b[0;32mwhile\u001b[0m \u001b[0;32mTrue\u001b[0m\u001b[0;34m:\u001b[0m\u001b[0;34m\u001b[0m\u001b[0;34m\u001b[0m\u001b[0m\n\u001b[0;32m--> 319\u001b[0;31m             \u001b[0mversion\u001b[0m\u001b[0;34m,\u001b[0m \u001b[0mstatus\u001b[0m\u001b[0;34m,\u001b[0m \u001b[0mreason\u001b[0m \u001b[0;34m=\u001b[0m \u001b[0mself\u001b[0m\u001b[0;34m.\u001b[0m\u001b[0m_read_status\u001b[0m\u001b[0;34m(\u001b[0m\u001b[0;34m)\u001b[0m\u001b[0;34m\u001b[0m\u001b[0;34m\u001b[0m\u001b[0m\n\u001b[0m\u001b[1;32m    320\u001b[0m             \u001b[0;32mif\u001b[0m \u001b[0mstatus\u001b[0m \u001b[0;34m!=\u001b[0m \u001b[0mCONTINUE\u001b[0m\u001b[0;34m:\u001b[0m\u001b[0;34m\u001b[0m\u001b[0;34m\u001b[0m\u001b[0m\n\u001b[1;32m    321\u001b[0m                 \u001b[0;32mbreak\u001b[0m\u001b[0;34m\u001b[0m\u001b[0;34m\u001b[0m\u001b[0m\n",
            "\u001b[0;32m/usr/lib/python3.7/http/client.py\u001b[0m in \u001b[0;36m_read_status\u001b[0;34m(self)\u001b[0m\n\u001b[1;32m    278\u001b[0m \u001b[0;34m\u001b[0m\u001b[0m\n\u001b[1;32m    279\u001b[0m     \u001b[0;32mdef\u001b[0m \u001b[0m_read_status\u001b[0m\u001b[0;34m(\u001b[0m\u001b[0mself\u001b[0m\u001b[0;34m)\u001b[0m\u001b[0;34m:\u001b[0m\u001b[0;34m\u001b[0m\u001b[0;34m\u001b[0m\u001b[0m\n\u001b[0;32m--> 280\u001b[0;31m         \u001b[0mline\u001b[0m \u001b[0;34m=\u001b[0m \u001b[0mstr\u001b[0m\u001b[0;34m(\u001b[0m\u001b[0mself\u001b[0m\u001b[0;34m.\u001b[0m\u001b[0mfp\u001b[0m\u001b[0;34m.\u001b[0m\u001b[0mreadline\u001b[0m\u001b[0;34m(\u001b[0m\u001b[0m_MAXLINE\u001b[0m \u001b[0;34m+\u001b[0m \u001b[0;36m1\u001b[0m\u001b[0;34m)\u001b[0m\u001b[0;34m,\u001b[0m \u001b[0;34m\"iso-8859-1\"\u001b[0m\u001b[0;34m)\u001b[0m\u001b[0;34m\u001b[0m\u001b[0;34m\u001b[0m\u001b[0m\n\u001b[0m\u001b[1;32m    281\u001b[0m         \u001b[0;32mif\u001b[0m \u001b[0mlen\u001b[0m\u001b[0;34m(\u001b[0m\u001b[0mline\u001b[0m\u001b[0;34m)\u001b[0m \u001b[0;34m>\u001b[0m \u001b[0m_MAXLINE\u001b[0m\u001b[0;34m:\u001b[0m\u001b[0;34m\u001b[0m\u001b[0;34m\u001b[0m\u001b[0m\n\u001b[1;32m    282\u001b[0m             \u001b[0;32mraise\u001b[0m \u001b[0mLineTooLong\u001b[0m\u001b[0;34m(\u001b[0m\u001b[0;34m\"status line\"\u001b[0m\u001b[0;34m)\u001b[0m\u001b[0;34m\u001b[0m\u001b[0;34m\u001b[0m\u001b[0m\n",
            "\u001b[0;32m/usr/lib/python3.7/socket.py\u001b[0m in \u001b[0;36mreadinto\u001b[0;34m(self, b)\u001b[0m\n\u001b[1;32m    587\u001b[0m         \u001b[0;32mwhile\u001b[0m \u001b[0;32mTrue\u001b[0m\u001b[0;34m:\u001b[0m\u001b[0;34m\u001b[0m\u001b[0;34m\u001b[0m\u001b[0m\n\u001b[1;32m    588\u001b[0m             \u001b[0;32mtry\u001b[0m\u001b[0;34m:\u001b[0m\u001b[0;34m\u001b[0m\u001b[0;34m\u001b[0m\u001b[0m\n\u001b[0;32m--> 589\u001b[0;31m                 \u001b[0;32mreturn\u001b[0m \u001b[0mself\u001b[0m\u001b[0;34m.\u001b[0m\u001b[0m_sock\u001b[0m\u001b[0;34m.\u001b[0m\u001b[0mrecv_into\u001b[0m\u001b[0;34m(\u001b[0m\u001b[0mb\u001b[0m\u001b[0;34m)\u001b[0m\u001b[0;34m\u001b[0m\u001b[0;34m\u001b[0m\u001b[0m\n\u001b[0m\u001b[1;32m    590\u001b[0m             \u001b[0;32mexcept\u001b[0m \u001b[0mtimeout\u001b[0m\u001b[0;34m:\u001b[0m\u001b[0;34m\u001b[0m\u001b[0;34m\u001b[0m\u001b[0m\n\u001b[1;32m    591\u001b[0m                 \u001b[0mself\u001b[0m\u001b[0;34m.\u001b[0m\u001b[0m_timeout_occurred\u001b[0m \u001b[0;34m=\u001b[0m \u001b[0;32mTrue\u001b[0m\u001b[0;34m\u001b[0m\u001b[0;34m\u001b[0m\u001b[0m\n",
            "\u001b[0;32m/usr/lib/python3.7/ssl.py\u001b[0m in \u001b[0;36mrecv_into\u001b[0;34m(self, buffer, nbytes, flags)\u001b[0m\n\u001b[1;32m   1069\u001b[0m                   \u001b[0;34m\"non-zero flags not allowed in calls to recv_into() on %s\"\u001b[0m \u001b[0;34m%\u001b[0m\u001b[0;34m\u001b[0m\u001b[0;34m\u001b[0m\u001b[0m\n\u001b[1;32m   1070\u001b[0m                   self.__class__)\n\u001b[0;32m-> 1071\u001b[0;31m             \u001b[0;32mreturn\u001b[0m \u001b[0mself\u001b[0m\u001b[0;34m.\u001b[0m\u001b[0mread\u001b[0m\u001b[0;34m(\u001b[0m\u001b[0mnbytes\u001b[0m\u001b[0;34m,\u001b[0m \u001b[0mbuffer\u001b[0m\u001b[0;34m)\u001b[0m\u001b[0;34m\u001b[0m\u001b[0;34m\u001b[0m\u001b[0m\n\u001b[0m\u001b[1;32m   1072\u001b[0m         \u001b[0;32melse\u001b[0m\u001b[0;34m:\u001b[0m\u001b[0;34m\u001b[0m\u001b[0;34m\u001b[0m\u001b[0m\n\u001b[1;32m   1073\u001b[0m             \u001b[0;32mreturn\u001b[0m \u001b[0msuper\u001b[0m\u001b[0;34m(\u001b[0m\u001b[0;34m)\u001b[0m\u001b[0;34m.\u001b[0m\u001b[0mrecv_into\u001b[0m\u001b[0;34m(\u001b[0m\u001b[0mbuffer\u001b[0m\u001b[0;34m,\u001b[0m \u001b[0mnbytes\u001b[0m\u001b[0;34m,\u001b[0m \u001b[0mflags\u001b[0m\u001b[0;34m)\u001b[0m\u001b[0;34m\u001b[0m\u001b[0;34m\u001b[0m\u001b[0m\n",
            "\u001b[0;32m/usr/lib/python3.7/ssl.py\u001b[0m in \u001b[0;36mread\u001b[0;34m(self, len, buffer)\u001b[0m\n\u001b[1;32m    927\u001b[0m         \u001b[0;32mtry\u001b[0m\u001b[0;34m:\u001b[0m\u001b[0;34m\u001b[0m\u001b[0;34m\u001b[0m\u001b[0m\n\u001b[1;32m    928\u001b[0m             \u001b[0;32mif\u001b[0m \u001b[0mbuffer\u001b[0m \u001b[0;32mis\u001b[0m \u001b[0;32mnot\u001b[0m \u001b[0;32mNone\u001b[0m\u001b[0;34m:\u001b[0m\u001b[0;34m\u001b[0m\u001b[0;34m\u001b[0m\u001b[0m\n\u001b[0;32m--> 929\u001b[0;31m                 \u001b[0;32mreturn\u001b[0m \u001b[0mself\u001b[0m\u001b[0;34m.\u001b[0m\u001b[0m_sslobj\u001b[0m\u001b[0;34m.\u001b[0m\u001b[0mread\u001b[0m\u001b[0;34m(\u001b[0m\u001b[0mlen\u001b[0m\u001b[0;34m,\u001b[0m \u001b[0mbuffer\u001b[0m\u001b[0;34m)\u001b[0m\u001b[0;34m\u001b[0m\u001b[0;34m\u001b[0m\u001b[0m\n\u001b[0m\u001b[1;32m    930\u001b[0m             \u001b[0;32melse\u001b[0m\u001b[0;34m:\u001b[0m\u001b[0;34m\u001b[0m\u001b[0;34m\u001b[0m\u001b[0m\n\u001b[1;32m    931\u001b[0m                 \u001b[0;32mreturn\u001b[0m \u001b[0mself\u001b[0m\u001b[0;34m.\u001b[0m\u001b[0m_sslobj\u001b[0m\u001b[0;34m.\u001b[0m\u001b[0mread\u001b[0m\u001b[0;34m(\u001b[0m\u001b[0mlen\u001b[0m\u001b[0;34m)\u001b[0m\u001b[0;34m\u001b[0m\u001b[0;34m\u001b[0m\u001b[0m\n",
            "\u001b[0;31mKeyboardInterrupt\u001b[0m: "
          ]
        }
      ],
      "source": [
        "# Parte 1 do arquivo\n",
        "url = 'https://raw.githubusercontent.com/danilosrm/projeto_MDD/main/00%20-%20FONTES/01%20-%20TRAIN/train_01.csv'\n",
        "  \n",
        "df_train = pd.read_csv(url, error_bad_lines=False, delimiter=';')\n",
        "print('Quantidade registro da primeira parte: ', df_train['id'].count())\n",
        "\n",
        "# Parte 2 do arquivo \n",
        "url = 'https://raw.githubusercontent.com/danilosrm/projeto_MDD/main/00%20-%20FONTES/01%20-%20TRAIN/train_02.csv'  \n",
        "  \n",
        "df2_train = pd.read_csv(url, error_bad_lines=False, delimiter=';')\n",
        "print('Quantidade registro da segunda parte: ', df2_train['id'].count())\n",
        "\n",
        "# Junção das partes  \n",
        "df_train = df_train.append(df2_train)\n",
        "print('Quantidade total registros: ', df_train['id'].count())\n"
      ]
    },
    {
      "cell_type": "code",
      "execution_count": null,
      "metadata": {
        "id": "orCGYXOcVoOK"
      },
      "outputs": [],
      "source": [
        "# Analise inicial dos dados carregados, verificando se todos os campos possuem \n",
        "# a mesma quantidade de registro. \n",
        "# Já sabe-se que os campos nulos foram tratados com o valor \"-1\"\n",
        "\n",
        "df_train.info(0)"
      ]
    },
    {
      "cell_type": "code",
      "execution_count": null,
      "metadata": {
        "id": "XdmpRFUeVRFG"
      },
      "outputs": [],
      "source": [
        "# Demonstração dos 5 primeiras linhas de registros de forma Transversal\n",
        "\n",
        "df_train.head(5).T"
      ]
    },
    {
      "cell_type": "code",
      "execution_count": null,
      "metadata": {
        "id": "4JXgRRHCkqNf"
      },
      "outputs": [],
      "source": [
        "# Tentativa de geração da plotagem das colunas existentes, porém como a quantidade é elevado, o gráfico acaba ficando\n",
        "# de forma desconfigurada e com o entendimento totalmente ilegivel. \n",
        "# Ainda é possível ver uma coluna que destoa das demais, sem conseguir identificar.\n",
        "\n",
        "# Retirado a coluna \"id\" que faz a identificação dos registros.\n",
        "df_train.drop('id', axis=1).plot.box(vert=False)\n",
        "plt.rcParams['figure.figsize'] = [10, 10]\n",
        "plt.show()"
      ]
    },
    {
      "cell_type": "markdown",
      "metadata": {
        "id": "NUIHmfHuwqL1"
      },
      "source": [
        "# Analise da Coluna Target"
      ]
    },
    {
      "cell_type": "code",
      "execution_count": null,
      "metadata": {
        "id": "s8iUwoTawOdf"
      },
      "outputs": [],
      "source": [
        "# Idenficação do valor Mínimo e Máximo\n",
        "\n",
        "print('Valor mínimo do coluna Target: ', df_train['target'].min())\n",
        "print('Valor maximo do coluna Target: ', df_train['target'].max())"
      ]
    },
    {
      "cell_type": "code",
      "execution_count": null,
      "metadata": {
        "id": "bot_c-ZRr6sx"
      },
      "outputs": [],
      "source": [
        "# Quantidade de registros para cada valor da coluna 'Target'\n",
        "\n",
        "qtd_target = df_train['target'].value_counts()\n",
        "\n",
        "\n",
        "print('Quantidade de registros ' , df_train['target'].min() , ':' ,qtd_target[0], 'corresponde a:', qtd_target[0]/qtd_target.sum() * 100)\n",
        "print('Quantidade de registros ' , df_train['target'].max() , ':' ,qtd_target[1], 'corresponde a:', qtd_target[1]/qtd_target.sum() * 100)"
      ]
    },
    {
      "cell_type": "code",
      "execution_count": null,
      "metadata": {
        "id": "La7ZLEPqqQPC"
      },
      "outputs": [],
      "source": [
        "# Gráfico da coluna \"Target\", utilizando a biblioteca \"matplotlib\" \n",
        "# O intuido é demonstrar a diferença na quantidade de registros entre os valores da coluna\n",
        "\n",
        "plt.figure(figsize=(10,5))\n",
        "ax = sns.countplot('target',data=df_train)\n",
        "for p in ax.patches:\n",
        "  ax.annotate('{:.2f}%'.format(100*p.get_height()/len(df_train['target'])), (p.get_x()+ 0.3, p.get_height()+1000))"
      ]
    },
    {
      "cell_type": "markdown",
      "metadata": {
        "id": "mSrlHGtO-JFj"
      },
      "source": [
        "## ANALISE DO RESULTADO:\n",
        "***\n",
        "**Verificamos que o valor '0' demonstra as pessoas que não solicitaram seguro e 1 as pessoas que solicitaram. \n",
        "Quantidade de registros que não solicitam sinistro é muito alto, o que demonstra que os dados fornecidos pelo Porto Seguro são desbalanceados. Isso pode compromete a assertividade do modelo, porém também temos conhecimento de que a quantidade de pessoas que não geram sinistro é alta, o que justifica a coluna TARGET.**\n",
        "\n",
        "***"
      ]
    },
    {
      "cell_type": "markdown",
      "metadata": {
        "id": "r7Uf6aFr7wEn"
      },
      "source": [
        "# Separação das colunas em 8 grupos\n",
        "\n",
        "Inteção é facilitar a análise em grupos separadas, mas que parecem ser da mesma característica.\n",
        "\n",
        "* \"n\" indica a numeração da coluna.\n",
        "\n",
        "1.   **df_ps_ind**: colunas \"ps_ind_n\".\n",
        "2.   **df_ps_ind_cat**: colunas \"ps_ind_n_cat\".\n",
        "3.   **df_ps_ind_bin**: colunas \"ps_ind_n_bin\".\n",
        "4.   **df_ps_reg**: colunas \"ps_ps_reg_n\".\n",
        "5.   **df_ps_car**: colunas \"ps_car_n\".\n",
        "6.   **df_ps_car_cat**: colunas \"ps_car_n_cat\".\n",
        "7.   **df_ps_cal**: colunas \"ps_cal_n\".\n",
        "8.   **df_ps_cal_bin**: colunas \"ps_car_bin\".\n",
        "\n",
        "\n",
        "\n",
        "\n"
      ]
    },
    {
      "cell_type": "code",
      "execution_count": null,
      "metadata": {
        "id": "rZqSgWgQDX1W"
      },
      "outputs": [],
      "source": [
        "# LISTA DAS COLUNAS CONFORME GRUPOS\n",
        "\n",
        "lista_ps_ind = ['ps_ind_01', 'ps_ind_03', 'ps_ind_14', 'ps_ind_15']\n",
        "\n",
        "lista_ps_ind_cat = ['ps_ind_02_cat','ps_ind_04_cat','ps_ind_05_cat']\n",
        "\n",
        "lista_ps_ind_bin = ['ps_ind_06_bin', 'ps_ind_07_bin', 'ps_ind_08_bin','ps_ind_09_bin', 'ps_ind_10_bin', 'ps_ind_11_bin', 'ps_ind_12_bin',\n",
        "                    'ps_ind_13_bin', 'ps_ind_16_bin', 'ps_ind_17_bin', 'ps_ind_18_bin']\n",
        "\n",
        "lista_ps_reg = ['ps_reg_01', 'ps_reg_02', 'ps_reg_03']         \n",
        "\n",
        "lista_ps_car = ['ps_car_11','ps_car_12', 'ps_car_13', 'ps_car_14', 'ps_car_15'] \n",
        "\n",
        "lista_ps_car_cat = ['ps_car_01_cat', 'ps_car_02_cat', 'ps_car_03_cat', 'ps_car_04_cat','ps_car_05_cat', 'ps_car_06_cat', \n",
        "                    'ps_car_07_cat', 'ps_car_08_cat','ps_car_09_cat', 'ps_car_10_cat', 'ps_car_11_cat']  \n",
        "\n",
        "lista_ps_cal = [ 'ps_calc_01','ps_calc_02', 'ps_calc_03', 'ps_calc_04', 'ps_calc_05', 'ps_calc_06','ps_calc_07', \n",
        "                'ps_calc_08', 'ps_calc_09', 'ps_calc_10', 'ps_calc_11','ps_calc_12', 'ps_calc_13', 'ps_calc_14']\n",
        "\n",
        "lista_ps_cal_bin = [ 'ps_calc_15_bin', 'ps_calc_16_bin', 'ps_calc_17_bin', 'ps_calc_18_bin','ps_calc_19_bin','ps_calc_20_bin']\n",
        "\n"
      ]
    },
    {
      "cell_type": "markdown",
      "metadata": {
        "id": "np8KJ33p7AMX"
      },
      "source": [
        "##**GRUPO 1**\n"
      ]
    },
    {
      "cell_type": "code",
      "execution_count": null,
      "metadata": {
        "id": "b-BmwK3a7Scd"
      },
      "outputs": [],
      "source": [
        "# Elimina do Data Frame as colunas que não possuem característica de nome parecido\n",
        "\n",
        "df_ps_ind = df_train\n",
        "\n",
        "lista =  lista_ps_ind_cat + lista_ps_ind_bin + lista_ps_reg + lista_ps_car + lista_ps_car_cat + lista_ps_cal + lista_ps_cal_bin\n",
        "df_ps_ind = df_ps_ind.drop(lista, axis=1)\n",
        "\n",
        "# Retira a coluna \"id\" para geração estatistica\n",
        "\n",
        "df_ps_ind.drop('id', axis=1).describe()"
      ]
    },
    {
      "cell_type": "code",
      "execution_count": null,
      "metadata": {
        "id": "-ytYsbxujqUb"
      },
      "outputs": [],
      "source": [
        "# Gera um gráfico do tipo Boxplot, porém desconsiderando as colunas \"ID\" e \"TARGET\"\n",
        "# Coluna \"ID\" é somente para associação com dados de outros grupos, mas que possuem mesmo \"ID\"\n",
        "\n",
        "lista_id_target = ['id', 'target']\n",
        "df_ps_ind.drop(lista_id_target, axis=1).plot.box(vert=False)"
      ]
    },
    {
      "cell_type": "code",
      "execution_count": null,
      "metadata": {
        "id": "zbs-V7dP3gU7"
      },
      "outputs": [],
      "source": [
        "# Analisando o gráfico anterior, vamos identificar os outliers pertencentes a coluna \"ps_ind_14\"\n",
        "# Neste caso, é a única coluna com outlier.\n",
        "\n",
        "qtd_outliers = df_ps_ind['ps_ind_14'].value_counts()\n",
        "\n",
        "print('Quantidade de registros por dimensão na coluna PS_IND_14')\n",
        "print(qtd_outliers)\n",
        "\n",
        "print(\"***************************************************************\")\n",
        "\n",
        "\n",
        "\n",
        "plt.figure(figsize=(10,5))\n",
        "sns.countplot(df_ps_ind['ps_ind_14'], palette=\"Set2\")"
      ]
    },
    {
      "cell_type": "markdown",
      "metadata": {
        "id": "lnn4f-piFZ5f"
      },
      "source": [
        "***\n",
        "Assim como a coluna **TARGET** , é possível identificar pelo gráfico que existem muitos registros com valor '0'\n",
        "\n",
        "***\n"
      ]
    },
    {
      "cell_type": "code",
      "execution_count": null,
      "metadata": {
        "id": "lj-Sb8tkisNV"
      },
      "outputs": [],
      "source": [
        "# Grupo 1: Index(['id', 'target', 'ps_ind_01', 'ps_ind_03', 'ps_ind_14', 'ps_ind_15'], dtype='object')\n",
        "# Gráfico de cada coluna por quantidade de registros por tipo de dado.\n",
        "\n",
        "fig,ax = plt.subplots(3,2,figsize=(15,5),sharex='all')\n",
        "ax1,ax2,ax3,ax4, ax5, ax6 = ax.flatten()\n",
        "sns.countplot(df_ps_ind['target'],palette='summer',ax=ax1)\n",
        "sns.countplot(df_ps_ind['target'],palette='summer',ax=ax2)\n",
        "sns.countplot(df_ps_ind['ps_ind_01'],palette='summer',ax=ax3)\n",
        "sns.countplot(df_ps_ind['ps_ind_03'],palette='summer',ax=ax4)\n",
        "sns.countplot(df_ps_ind['ps_ind_14'],palette='summer',ax=ax5)\n",
        "sns.countplot(df_ps_ind['ps_ind_15'],palette='summer',ax=ax6)\n"
      ]
    },
    {
      "cell_type": "markdown",
      "metadata": {
        "id": "jUIRzwRO57To"
      },
      "source": [
        "## ANALISE DO RESULTADO - GRUPO 1:\n",
        "***\n",
        "Graficos demonstram que existem diversos valores para tipos de colunas diferentes.\n",
        " Atenção para coluna \"ps_ind_14\", onde analise separada demonstrou que coluna possui 4 tipos de valores, porém a maioria dos registros são de valor zerado. O que se identifica com a maioria dos valores do TARGET.\n",
        "\n",
        "***\n"
      ]
    },
    {
      "cell_type": "markdown",
      "metadata": {
        "id": "fAraN79O7Ilo"
      },
      "source": [
        "##**GRUPO 2**"
      ]
    },
    {
      "cell_type": "code",
      "execution_count": null,
      "metadata": {
        "id": "qvfqoWAj6aN9"
      },
      "outputs": [],
      "source": [
        "# Elimina do Data Frame as colunas que não possuem característica de nome parecido\n",
        "\n",
        "df_ps_ind_cat = df_train\n",
        "\n",
        "lista =  lista_ps_ind + lista_ps_ind_bin + lista_ps_reg + lista_ps_car + lista_ps_car_cat + lista_ps_cal + lista_ps_cal_bin\n",
        "df_ps_ind_cat = df_ps_ind_cat.drop(lista, axis=1)\n",
        "\n",
        "\n",
        "# Retira a coluna \"id\" para geração estatistica\n",
        "\n",
        "df_ps_ind_cat.drop('id', axis=1).describe()"
      ]
    },
    {
      "cell_type": "code",
      "execution_count": null,
      "metadata": {
        "id": "7X4DLUnK_fE6"
      },
      "outputs": [],
      "source": [
        "# Gera um gráfico do tipo Boxplot, porém desconsiderando as colunas \"ID\" e \"TARGET\"\n",
        "# Coluna \"ID\" é somente para associação com dados de outros grupos, mas que possuem mesmo \"ID\"\n",
        "\n",
        "lista_id_target = ['id', 'target']\n",
        "df_ps_ind_cat.drop(lista_id_target, axis=1).plot.box(vert=False)"
      ]
    },
    {
      "cell_type": "code",
      "execution_count": null,
      "metadata": {
        "id": "sO91Dpsl_xnE"
      },
      "outputs": [],
      "source": [
        "# Analisando o gráfico anterior, vamos identificar os outliers pertencentes a coluna \"ps_ind_05_cat\" e \"ps_ind_02_cat\"\n",
        "\n",
        "qtd_outliers= df_ps_ind_cat['ps_ind_05_cat'].value_counts()\n",
        "qtd_outliers_02= df_ps_ind_cat['ps_ind_02_cat'].value_counts()\n",
        "\n",
        "print('Quantidade de registros por dimensão na coluna PS_IND_05_CAT')\n",
        "print(qtd_outliers)\n",
        "\n",
        "print(\"*****************************************************************************\")\n",
        "\n",
        "print('Quantidade de registros por dimensão na coluna PS_IND_02_CAT')\n",
        "print(qtd_outliers_02)\n",
        "\n",
        "print(\"*****************************************************************************\")\n"
      ]
    },
    {
      "cell_type": "code",
      "execution_count": null,
      "metadata": {
        "id": "X2tDafoYCGp7"
      },
      "outputs": [],
      "source": [
        "# Grupo 2: Index(['id', 'target', 'ps_ind_02_cat', 'ps_ind_04_cat', 'ps_ind_05_cat'])\n",
        "# Gráfico de cada coluna por quantidade de registros por tipo de dado.\n",
        "\n",
        "fig,ax = plt.subplots(2,2,figsize=(15,5),sharex='all')\n",
        "ax1,ax2,ax3,ax4 = ax.flatten()\n",
        "sns.countplot(df_ps_ind_cat['target'],palette='summer',ax=ax1)\n",
        "sns.countplot(df_ps_ind_cat['ps_ind_02_cat'],palette='summer',ax=ax2)\n",
        "sns.countplot(df_ps_ind_cat['ps_ind_04_cat'],palette='summer',ax=ax3)\n",
        "sns.countplot(df_ps_ind_cat['ps_ind_05_cat'],palette='summer',ax=ax4)"
      ]
    },
    {
      "cell_type": "markdown",
      "metadata": {
        "id": "sCUPPYWTD8PS"
      },
      "source": [
        "## ANALISE DO RESULTADO - GRUPO 2:\n",
        "***\n",
        "Verificado que existem colunas com valores negativos.\n",
        "Na descrição do problema foi informado que valores negativos são nulos e que tiveram seu preenchimento feito pela Porto Seguro.\n",
        "***"
      ]
    },
    {
      "cell_type": "markdown",
      "metadata": {
        "id": "FC97n19q7MuA"
      },
      "source": [
        "##**GRUPO 3**"
      ]
    },
    {
      "cell_type": "code",
      "execution_count": null,
      "metadata": {
        "id": "XDdu86xW6wuG"
      },
      "outputs": [],
      "source": [
        "# Elimina do Data Frame as colunas que não possuem característica de nome parecido\n",
        "\n",
        "df_ps_ind_bin = df_train\n",
        "\n",
        "lista =  lista_ps_ind + lista_ps_ind_cat + lista_ps_reg + lista_ps_car + lista_ps_car_cat + lista_ps_cal + lista_ps_cal_bin\n",
        "df_ps_ind_bin = df_ps_ind_bin.drop(lista, axis=1)\n",
        "\n",
        "# Retira a coluna \"id\" para geração estatistica\n",
        "\n",
        "df_ps_ind_bin.drop('id', axis=1).describe().T\n",
        "\n",
        "## Todos os valores estam entre 0 e 1.\n",
        "## O que identifica que esse conjunto é binario"
      ]
    },
    {
      "cell_type": "code",
      "execution_count": null,
      "metadata": {
        "id": "6Vcs520wKZsk"
      },
      "outputs": [],
      "source": [
        "# Geração dos valores da matriz comparando o Target com a coluna\n",
        "\n",
        "\n",
        "print('Confusion matrix - TARGET x PS_IND_06_BIN ')\n",
        "matrix = confusion_matrix(df_ps_ind_bin['target'],df_ps_ind_bin['ps_ind_06_bin'])\n",
        "print(matrix)\n",
        "\n",
        "print('\\n*********************************************************************\\n')\n",
        "\n",
        "print('Confusion matrix - TARGET x PS_IND_07_BIN ')\n",
        "matrix = confusion_matrix(df_ps_ind_bin['target'],df_ps_ind_bin['ps_ind_07_bin'])\n",
        "print(matrix)\n",
        "\n",
        "print('\\n*********************************************************************\\n')\n",
        "\n",
        "print('Confusion matrix - TARGET x PS_IND_10_BIN ')\n",
        "matrix = confusion_matrix(df_ps_ind_bin['target'],df_ps_ind_bin['ps_ind_10_bin'])\n",
        "print(matrix)"
      ]
    },
    {
      "cell_type": "code",
      "execution_count": null,
      "metadata": {
        "id": "gsQzVNpRO4sA"
      },
      "outputs": [],
      "source": [
        "# Gera um gráfico do tipo Boxplot, porém desconsiderando as colunas \"ID\" e \"TARGET\"\n",
        "# Coluna \"ID\" é somente para associação com dados de outros grupos, mas que possuem mesmo \"ID\"\n",
        "\n",
        "lista_id_target = ['id', 'target']\n",
        "df_ps_ind_bin.drop('id', axis=1).plot.box()\n",
        "plt.figure(figsize=(10,6))\n",
        "plt.show()"
      ]
    },
    {
      "cell_type": "code",
      "execution_count": null,
      "metadata": {
        "id": "Qfj7Tob6Zej4"
      },
      "outputs": [],
      "source": [
        "# Analisando o gráfico anterior, vamos identificar os outliers pertencentes a coluna \"ps_ind_07_bin\"\n",
        "\n",
        "qtd_outliers= df_ps_ind_bin['ps_ind_07_bin'].value_counts()\n",
        "\n",
        "print('Quantidade de registros por dimensão na coluna PS_IND_07_BIN')\n",
        "print(qtd_outliers)\n",
        "\n",
        "print(\"*****************************************************************************\")\n",
        "\n",
        "\n",
        "plt.figure(figsize=(10,5))\n",
        "sns.countplot(df_ps_ind_bin['ps_ind_07_bin'], palette=\"Set2\")"
      ]
    },
    {
      "cell_type": "code",
      "execution_count": null,
      "metadata": {
        "id": "mvJ1K1z6C9wd"
      },
      "outputs": [],
      "source": [
        "# Grupo 3: Index(['id', 'target', 'ps_ind_06_bin', 'ps_ind_07_bin', 'ps_ind_08_bin', 'ps_ind_09_bin', \n",
        "#                                 'ps_ind_10_bin', 'ps_ind_11_bin', 'ps_ind_12_bin', 'ps_ind_13_bin', 'ps_ind_16_bin')\n",
        "\n",
        "fig,ax = plt.subplots(3,4,figsize=(20,14),sharex='all')\n",
        "ax1,ax2,ax3,ax4,ax5,ax6,ax7,ax8,ax9,ax10,ax11,ax12 = ax.flatten()\n",
        "sns.countplot(df_ps_ind_bin['ps_ind_06_bin'],palette='rainbow',ax=ax1)\n",
        "sns.countplot(df_ps_ind_bin['ps_ind_07_bin'],palette='summer',ax=ax2)\n",
        "sns.countplot(df_ps_ind_bin['ps_ind_08_bin'],palette='gist_rainbow',ax=ax3)\n",
        "sns.countplot(df_ps_ind_bin['ps_ind_09_bin'],palette='summer',ax=ax4)\n",
        "sns.countplot(df_ps_ind_bin['ps_ind_10_bin'],palette='rainbow',ax=ax5)\n",
        "sns.countplot(df_ps_ind_bin['ps_ind_11_bin'],palette='gist_rainbow',ax=ax6)\n",
        "sns.countplot(df_ps_ind_bin['ps_ind_12_bin'],palette='coolwarm',ax=ax7)\n",
        "sns.countplot(df_ps_ind_bin['ps_ind_13_bin'],palette='gist_rainbow',ax=ax8)\n",
        "sns.countplot(df_ps_ind_bin['ps_ind_16_bin'],palette='rainbow',ax=ax9)\n",
        "sns.countplot(df_ps_ind_bin['ps_ind_17_bin'],palette='coolwarm',ax=ax10)\n",
        "sns.countplot(df_ps_ind_bin['ps_ind_18_bin'],palette='gist_rainbow',ax=ax11)\n",
        "sns.countplot(df_ps_ind_bin['ps_ind_18_bin'],palette='rainbow',ax=ax12)"
      ]
    },
    {
      "cell_type": "markdown",
      "metadata": {
        "id": "XcFYju2u7jEP"
      },
      "source": [
        "##ANALISE DO RESULTADO - GRUPO 3:\n",
        "***\n",
        "A maior parte dos gráficos são parecidas com o target, 0 e 1. Os 3 últimos estão discrepantes. \n",
        "****\n",
        "\n"
      ]
    },
    {
      "cell_type": "markdown",
      "metadata": {
        "id": "5XALr0hJ7PWM"
      },
      "source": [
        "##**GRUPO 4**"
      ]
    },
    {
      "cell_type": "code",
      "execution_count": null,
      "metadata": {
        "id": "ohuZNytO5Wuh"
      },
      "outputs": [],
      "source": [
        "df_ps_reg = df_train\n",
        "\n",
        "lista =  lista_ps_ind + lista_ps_ind_cat + lista_ps_ind_bin + lista_ps_car + lista_ps_car_cat + lista_ps_cal + lista_ps_cal_bin\n",
        "df_ps_reg = df_ps_reg.drop(lista, axis=1)\n",
        "\n",
        "df_ps_reg.describe()"
      ]
    },
    {
      "cell_type": "code",
      "execution_count": null,
      "metadata": {
        "id": "4FhrmDMotAPF"
      },
      "outputs": [],
      "source": [
        "df_ps_reg.drop('id', axis=1).plot.box()\n",
        "plt.figure(figsize=(6,6))\n",
        "plt.show()"
      ]
    },
    {
      "cell_type": "code",
      "execution_count": null,
      "metadata": {
        "id": "kJz7O9iv0uhr"
      },
      "outputs": [],
      "source": [
        "# Analisa o gráfico anteriores, vamos identificar os outliers pertencentes a coluna \"ps_reg_03\"\n",
        "\n",
        "qtd_outliers = df_ps_reg['ps_reg_03'].value_counts()\n",
        "\n",
        "print('Quantidade de registros por dimensão na coluna PS_REG_03')\n",
        "print(qtd_outliers)\n",
        "\n",
        "print(\"***************************************************************\")\n",
        "\n",
        "\n",
        "\n",
        "plt.figure(figsize=(5,5))\n",
        "sns.countplot(df_ps_reg['ps_reg_03'], palette=\"Set2\")"
      ]
    },
    {
      "cell_type": "code",
      "execution_count": null,
      "metadata": {
        "id": "EpqXgGZf-bgH"
      },
      "outputs": [],
      "source": [
        "# Grupo 4: Index(['id', 'target', 'ps_reg_01', 'ps_reg_02', 'ps_reg_03')\n",
        "\n",
        "fig,ax = plt.subplots(2,2,figsize=(15,5),sharex='all')\n",
        "ax1,ax2,ax3,ax4 = ax.flatten()\n",
        "sns.countplot(df_ps_reg['target'],palette='summer',ax=ax1)\n",
        "sns.countplot(df_ps_reg['ps_reg_01'],palette='rainbow',ax=ax1)\n",
        "sns.countplot(df_ps_reg['ps_reg_02'],palette='summer',ax=ax2)\n",
        "sns.countplot(df_ps_reg['ps_reg_03'],palette='gist_rainbow',ax=ax3)"
      ]
    },
    {
      "cell_type": "code",
      "execution_count": null,
      "metadata": {
        "id": "2NFENb4TKDcG"
      },
      "outputs": [],
      "source": [
        "\n"
      ]
    },
    {
      "cell_type": "markdown",
      "metadata": {
        "id": "IrCxNF4o7m_9"
      },
      "source": [
        "##ANALISE DO RESULTADO - GRUPO 4:\n",
        "***\n",
        "Quantidade muito grande de valores Nulos (-1). Os valores estão como 0., o que gera dificuldade na análise dos dados.\n",
        "Coluna reg 03 possui muitos outliers e valores nulos.\n",
        "***"
      ]
    },
    {
      "cell_type": "markdown",
      "metadata": {
        "id": "9bCMnuRf7TQs"
      },
      "source": [
        "##**GRUPO 5**"
      ]
    },
    {
      "cell_type": "code",
      "execution_count": null,
      "metadata": {
        "id": "hqwlZT8P56v7"
      },
      "outputs": [],
      "source": [
        "df_ps_car = df_train\n",
        "\n",
        "lista =  lista_ps_ind + lista_ps_ind_cat + lista_ps_ind_bin + lista_ps_reg + lista_ps_car_cat + lista_ps_cal + lista_ps_cal_bin\n",
        "df_ps_car = df_ps_car.drop(lista, axis=1)\n",
        "\n",
        "df_ps_car.describe()"
      ]
    },
    {
      "cell_type": "code",
      "execution_count": null,
      "metadata": {
        "id": "0Wky_Fc6tH9F"
      },
      "outputs": [],
      "source": [
        "df_ps_car.drop('id', axis=1).plot.box()"
      ]
    },
    {
      "cell_type": "code",
      "execution_count": null,
      "metadata": {
        "id": "KEM2DM535qCq"
      },
      "outputs": [],
      "source": [
        "# Analisa o gráfico anteriores, vamos identificar os outliers pertencentes a coluna \"ps_car_11\"\n",
        "\n",
        "qtd_outliers = df_ps_car['ps_car_11'].value_counts()\n",
        "\n",
        "print('Quantidade de registros por dimensão na coluna PS_CAR_11')\n",
        "print(qtd_outliers)\n",
        "\n",
        "print(\"***************************************************************\")\n",
        "\n",
        "\n",
        "\n",
        "plt.figure(figsize=(10,5))\n",
        "sns.countplot(df_ps_car['ps_car_11'], palette=\"Set2\")"
      ]
    },
    {
      "cell_type": "code",
      "execution_count": null,
      "metadata": {
        "id": "NkW7XIEmF-jm"
      },
      "outputs": [],
      "source": [
        "# Analisa o gráfico anteriores, vamos identificar os outliers pertencentes a coluna \"ps_car_15\"\n",
        "\n",
        "qtd_outliers = df_ps_car['ps_car_15'].value_counts()\n",
        "\n",
        "print('Quantidade de registros por dimensão na coluna PS_CAR_15')\n",
        "print(qtd_outliers)\n",
        "\n",
        "print(\"***************************************************************\")\n",
        "\n",
        "\n",
        "\n",
        "plt.figure(figsize=(15,5))\n",
        "sns.countplot(df_ps_car['ps_car_15'], palette=\"Set2\")"
      ]
    },
    {
      "cell_type": "code",
      "execution_count": null,
      "metadata": {
        "id": "TixvE0UiDSsw"
      },
      "outputs": [],
      "source": [
        "# Grupo 5: Index(['id', 'target', 'ps_car_11','ps_car_12', 'ps_car_13', 'ps_car_14', 'ps_car_15')\n",
        "\n",
        "fig,ax = plt.subplots(2,3,figsize=(15,5),sharex='all')\n",
        "ax1,ax2,ax3,ax4,ax5,ax6 = ax.flatten()\n",
        "sns.countplot(df_ps_car['target'],palette='summer',ax=ax1)\n",
        "sns.countplot(df_ps_car['ps_car_11'],palette='rainbow',ax=ax2)\n",
        "sns.countplot(df_ps_car['ps_car_12'],palette='summer',ax=ax3)\n",
        "sns.countplot(df_ps_car['ps_car_13'],palette='gist_rainbow',ax=ax4)\n",
        "sns.countplot(df_ps_car['ps_car_14'],palette='gist_rainbow',ax=ax5)\n",
        "sns.countplot(df_ps_car['ps_car_15'],palette='gist_rainbow',ax=ax6)"
      ]
    },
    {
      "cell_type": "markdown",
      "metadata": {
        "id": "Zig4QFiO7tQ2"
      },
      "source": [
        "##ANALISE DO RESULTADO - GRUPO 5:\n",
        "***\n",
        "Neste grupo, os recursos parecem ser continuos, com excessão do ps_car_11, que possui muitas categorias e a variável 15, que\n",
        " traz uma discrepância de valores.\n",
        " ***"
      ]
    },
    {
      "cell_type": "markdown",
      "metadata": {
        "id": "N6zCDYwU7YEB"
      },
      "source": [
        "##**GRUPO 6**"
      ]
    },
    {
      "cell_type": "code",
      "execution_count": null,
      "metadata": {
        "id": "X3y6fhPE6P_n"
      },
      "outputs": [],
      "source": [
        "df_ps_car_cat = df_train\n",
        "\n",
        "lista =  lista_ps_ind + lista_ps_ind_cat + lista_ps_ind_bin + lista_ps_reg + lista_ps_car + lista_ps_cal + lista_ps_cal_bin\n",
        "df_ps_car_cat = df_ps_car_cat.drop(lista, axis=1)\n",
        "\n",
        "df_ps_car_cat.describe()"
      ]
    },
    {
      "cell_type": "code",
      "execution_count": null,
      "metadata": {
        "id": "PRL7RLogtPFj"
      },
      "outputs": [],
      "source": [
        "df_ps_car_cat.drop('id', axis=1).plot.box()"
      ]
    },
    {
      "cell_type": "markdown",
      "metadata": {
        "id": "EaY5f1RQttyD"
      },
      "source": [
        "Possível ver que a coluna com valores totalmente fora do padrão das demais é a \"ps_car_11_cat\", que possui valores listados de \"0\" à \"100\""
      ]
    },
    {
      "cell_type": "code",
      "execution_count": null,
      "metadata": {
        "id": "surs8zo58vVT"
      },
      "outputs": [],
      "source": [
        "# Analisa o gráfico anteriores, vamos identificar os outliers pertencentes a coluna \"ps_car_11\"\n",
        "\n",
        "qtd_outliers = df_ps_car_cat['ps_car_11_cat'].value_counts()\n",
        "\n",
        "print('Quantidade de registros por dimensão na coluna PS_CAR_11_CAT')\n",
        "print(qtd_outliers)\n",
        "\n",
        "print(\"***************************************************************\")\n",
        "\n",
        "\n",
        "\n",
        "plt.figure(figsize=(10,5))\n",
        "sns.countplot(df_ps_car_cat['ps_car_11_cat'], palette=\"Set2\")"
      ]
    },
    {
      "cell_type": "code",
      "execution_count": null,
      "metadata": {
        "id": "7JxvCr1fJ1cX"
      },
      "outputs": [],
      "source": [
        "# Grupo 6: Index('id', 'target','ps_car_01_cat', 'ps_car_02_cat', 'ps_car_03_cat', 'ps_car_04_cat','ps_car_05_cat', 'ps_car_06_cat', 'ps_car_07_cat', 'ps_car_08_cat','ps_car_09_cat', 'ps_car_10_cat', 'ps_car_11_cat')\n",
        "\n",
        "fig,ax = plt.subplots(3,4,figsize=(20,14),sharex='all')\n",
        "ax1,ax2,ax3,ax4,ax5,ax6,ax7,ax8,ax9,ax10,ax11,ax12 = ax.flatten()\n",
        "sns.countplot(df_ps_car_cat['target'],palette='rainbow',ax=ax1)\n",
        "sns.countplot(df_ps_car_cat['ps_car_01_cat'],palette='summer',ax=ax2)\n",
        "sns.countplot(df_ps_car_cat['ps_car_02_cat'],palette='gist_rainbow',ax=ax3)\n",
        "sns.countplot(df_ps_car_cat['ps_car_03_cat'],palette='summer',ax=ax4)\n",
        "sns.countplot(df_ps_car_cat['ps_car_04_cat'],palette='rainbow',ax=ax5)\n",
        "sns.countplot(df_ps_car_cat['ps_car_05_cat'],palette='gist_rainbow',ax=ax6)\n",
        "sns.countplot(df_ps_car_cat['ps_car_06_cat'],palette='coolwarm',ax=ax7)\n",
        "sns.countplot(df_ps_car_cat['ps_car_07_cat'],palette='gist_rainbow',ax=ax8)\n",
        "sns.countplot(df_ps_car_cat['ps_car_08_cat'],palette='rainbow',ax=ax9)\n",
        "sns.countplot(df_ps_car_cat['ps_car_09_cat'],palette='coolwarm',ax=ax10)\n",
        "sns.countplot(df_ps_car_cat['ps_car_10_cat'],palette='gist_rainbow',ax=ax11)\n",
        "sns.countplot(df_ps_car_cat['ps_car_11_cat'],palette='rainbow',ax=ax12)"
      ]
    },
    {
      "cell_type": "markdown",
      "metadata": {
        "id": "7Rna_B2q7wcR"
      },
      "source": [
        "##ANALISE DO RESULTADO - GRUPO 6:\n",
        "***\n",
        "Percebe-se que o \"ps_car_11_cat\" possui valores discrepantes e que seria melhor retira-lo ou fazer analise separado (fazer outra box plot sem o \"ps_car_11_cat\"). Verifica-se a maior presença de outliers nas outras variaveis. Atraves dos graficos nota-se uma distribuição de observações mais a esquerda. Verifica-se que o \"ps_car_03_cat\" possui em media 70% dos dados são ausentes (-1), o que possivelmente justifica sua retirada. O \"ps_car_05_cat\" tambem possui um numero expressivo de dados ausentes.\n",
        "***"
      ]
    },
    {
      "cell_type": "markdown",
      "metadata": {
        "id": "hAQu0kWk7bKy"
      },
      "source": [
        "##**GRUPO 7**"
      ]
    },
    {
      "cell_type": "code",
      "execution_count": null,
      "metadata": {
        "id": "_lnCWz9k6jD7"
      },
      "outputs": [],
      "source": [
        "df_ps_cal = df_train\n",
        "\n",
        "lista =  lista_ps_ind + lista_ps_ind_cat + lista_ps_ind_bin + lista_ps_reg + lista_ps_car + lista_ps_car_cat + lista_ps_cal_bin\n",
        "df_ps_cal = df_ps_cal.drop(lista, axis=1)\n",
        "\n",
        "df_ps_cal.describe()"
      ]
    },
    {
      "cell_type": "code",
      "execution_count": null,
      "metadata": {
        "id": "o8H5LRKLtbMj"
      },
      "outputs": [],
      "source": [
        "df_ps_cal.drop('id', axis=1).plot.box()"
      ]
    },
    {
      "cell_type": "code",
      "execution_count": null,
      "metadata": {
        "id": "H0dcXasE9cQq"
      },
      "outputs": [],
      "source": [
        "# Analisa o gráfico anteriores, vamos identificar os outliers pertencentes a coluna \"ps_car_11\"\n",
        "\n",
        "qtd_outliers = df_ps_cal['ps_calc_05'].value_counts()\n",
        "\n",
        "print('Quantidade de registros por dimensão na coluna PS_CALC_05')\n",
        "print(qtd_outliers)\n",
        "\n",
        "print(\"***************************************************************\")\n",
        "\n",
        "\n",
        "\n",
        "plt.figure(figsize=(10,5))\n",
        "sns.countplot(df_ps_cal['ps_calc_05'], palette=\"Set2\")"
      ]
    },
    {
      "cell_type": "code",
      "execution_count": null,
      "metadata": {
        "id": "Zh-QKGkyUs6K"
      },
      "outputs": [],
      "source": [
        "# Grupo 7: Index('id', 'ps_calc_01','ps_calc_02', 'ps_calc_03', 'ps_calc_04', 'ps_calc_05', 'ps_calc_06','ps_calc_07','ps_calc_08', 'ps_calc_09', 'ps_calc_10', 'ps_calc_11','ps_calc_12', 'ps_calc_13', 'ps_calc_14')\n",
        "\n",
        " \n",
        "\n",
        "fig,ax = plt.subplots(3,4,figsize=(20,14),sharex='all')\n",
        "ax1,ax2,ax3,ax4,ax5,ax6,ax7,ax8,ax9,ax10,ax11,ax12 = ax.flatten()\n",
        "sns.countplot(df_ps_cal['target'],palette='rainbow',ax=ax1)\n",
        "sns.countplot(df_ps_cal['ps_calc_01'],palette='summer',ax=ax2)\n",
        "sns.countplot(df_ps_cal['ps_calc_02'],palette='gist_rainbow',ax=ax3)\n",
        "sns.countplot(df_ps_cal['ps_calc_03'],palette='summer',ax=ax4)\n",
        "sns.countplot(df_ps_cal['ps_calc_04'],palette='rainbow',ax=ax5)\n",
        "sns.countplot(df_ps_cal['ps_calc_05'],palette='gist_rainbow',ax=ax6)\n",
        "sns.countplot(df_ps_cal['ps_calc_06'],palette='coolwarm',ax=ax7)\n",
        "sns.countplot(df_ps_cal['ps_calc_07'],palette='gist_rainbow',ax=ax8)\n",
        "sns.countplot(df_ps_cal['ps_calc_08'],palette='rainbow',ax=ax9)\n",
        "sns.countplot(df_ps_cal['ps_calc_09'],palette='coolwarm',ax=ax10)\n",
        "sns.countplot(df_ps_cal['ps_calc_10'],palette='gist_rainbow',ax=ax11)\n",
        "sns.countplot(df_ps_cal['ps_calc_11'],palette='rainbow',ax=ax12)"
      ]
    },
    {
      "cell_type": "markdown",
      "metadata": {
        "id": "hz9q_QY77zTF"
      },
      "source": [
        "##ANALISE DO RESULTADO - GRUPO 7:\n",
        "***\n",
        "O grupo \"ps_calc_10\" apresenta componentes com muitos outliers e valores com escalas diferentes. O grupo não possui dados ausentes (-1). Os atributos \"ps_calc_01\", \"ps_calc_02\" e \"ps_calc_03\" possuem basicamente as mesmas informações (min, max, std, quartis/percentis). Tambem chama a atenção os atributos \"ps_calc_10\" e o \"ps_calc_14\" pela semelhança.\n",
        "***"
      ]
    },
    {
      "cell_type": "markdown",
      "metadata": {
        "id": "nN3eUdkF7eWS"
      },
      "source": [
        "##**GRUPO 8**"
      ]
    },
    {
      "cell_type": "code",
      "execution_count": null,
      "metadata": {
        "id": "cFYX00zE6xbB"
      },
      "outputs": [],
      "source": [
        "df_ps_cal_bin = df_train\n",
        "\n",
        "lista =  lista_ps_ind + lista_ps_ind_cat + lista_ps_ind_bin + lista_ps_reg + lista_ps_car + lista_ps_car_cat + lista_ps_cal\n",
        "df_ps_cal_bin = df_ps_cal_bin.drop(lista, axis=1)\n",
        "\n",
        "df_ps_cal_bin.describe()"
      ]
    },
    {
      "cell_type": "code",
      "execution_count": null,
      "metadata": {
        "id": "McLkNdD0tg64"
      },
      "outputs": [],
      "source": [
        "lista_id_target = ['id', 'target']\n",
        "df_ps_cal_bin.drop(lista_id_target, axis=1).plot.box(vert=False)"
      ]
    },
    {
      "cell_type": "code",
      "execution_count": null,
      "metadata": {
        "colab": {
          "base_uri": "https://localhost:8080/"
        },
        "id": "Bp-rNIKNMHhs",
        "outputId": "abcd421b-8f62-4493-9735-04d866f23eed"
      },
      "outputs": [
        {
          "output_type": "stream",
          "name": "stderr",
          "text": [
            "/usr/local/lib/python3.7/dist-packages/seaborn/_decorators.py:43: FutureWarning: Pass the following variable as a keyword arg: x. From version 0.12, the only valid positional argument will be `data`, and passing other arguments without an explicit keyword will result in an error or misinterpretation.\n",
            "  FutureWarning\n",
            "/usr/local/lib/python3.7/dist-packages/seaborn/_decorators.py:43: FutureWarning: Pass the following variable as a keyword arg: x. From version 0.12, the only valid positional argument will be `data`, and passing other arguments without an explicit keyword will result in an error or misinterpretation.\n",
            "  FutureWarning\n"
          ]
        },
        {
          "output_type": "execute_result",
          "data": {
            "text/plain": [
              "<matplotlib.axes._subplots.AxesSubplot at 0x7f3eae5e24d0>"
            ]
          },
          "metadata": {},
          "execution_count": 109
        },
        {
          "output_type": "display_data",
          "data": {
            "image/png": "[encoded data removed]",
            "text/plain": [
              "<Figure size 1080x360 with 2 Axes>"
            ]
          },
          "metadata": {
            "needs_background": "light"
          }
        }
      ],
      "source": [
        "# Analise gráfica das colunas \"ps_calc_15_bin\" e \"ps_calc_20_bin\", que são parecidas com a coluna TARGET\n",
        "\n",
        "fig,ax = plt.subplots(1,2,figsize=(15,5),sharex='all')\n",
        "ax1,ax2 = ax.flatten()\n",
        "sns.countplot(df_ps_cal_bin['ps_calc_15_bin'],palette='summer',ax=ax1)\n",
        "sns.countplot(df_ps_cal_bin['ps_calc_20_bin'],palette='rainbow',ax=ax2)\n"
      ]
    },
    {
      "cell_type": "code",
      "execution_count": null,
      "metadata": {
        "id": "LMrFBHOeK68m"
      },
      "outputs": [],
      "source": [
        "# Grupo 8: Index(['id', 'target', 'ps_calc_15_bin', 'ps_calc_16_bin', 'ps_calc_17_bin', 'ps_calc_18_bin','ps_calc_19_bin','ps_calc_20_bin')\n",
        "\n",
        "fig,ax = plt.subplots(3,2,figsize=(15,5),sharex='all')\n",
        "ax1,ax2,ax3,ax4,ax5,ax6 = ax.flatten()\n",
        "sns.countplot(df_ps_cal_bin['ps_calc_15_bin'],palette='rainbow',ax=ax1)\n",
        "sns.countplot(df_ps_cal_bin['ps_calc_16_bin'],palette='summer',ax=ax2)\n",
        "sns.countplot(df_ps_cal_bin['ps_calc_17_bin'],palette='gist_rainbow',ax=ax3)\n",
        "sns.countplot(df_ps_cal_bin['ps_calc_18_bin'],palette='gist_rainbow',ax=ax4)\n",
        "sns.countplot(df_ps_cal_bin['ps_calc_19_bin'],palette='gist_rainbow',ax=ax5)\n",
        "sns.countplot(df_ps_cal_bin['ps_calc_20_bin'],palette='gist_rainbow',ax=ax6)"
      ]
    },
    {
      "cell_type": "markdown",
      "metadata": {
        "id": "a_atIlmL724V"
      },
      "source": [
        "##ANALISE DO RESULTADO - GRUPO 8:\n",
        "***\n",
        "Colunas possuem os mesmos valores da TARGET, porém as colunas \"ps_calc_15_bin\" e \"ps_calc_20_bin\" mais se assemelham.\n",
        "Nas colunas \"ps_calc_16_bin\" e \"ps_calc_17_bin\" pode-se ver um percentual inverso ao TARGET, com os valores \"1\" com maior destaque.\n",
        "Não existem valores ausentes e nem outliers para esse grupo.\n",
        "***"
      ]
    },
    {
      "cell_type": "markdown",
      "metadata": {
        "id": "zJnkUSIC0dK4"
      },
      "source": [
        "# GERAÇÃO DE MODELO PARA CÁLCULO DE ACURÁCIA SEM TRATAMENTO DE DADOS\n",
        "\n",
        "***\n",
        "-  Separação dos dados em TREINO e VALIDAÇÃO\n",
        "- Acurácia do modelo Regressão Linear\n",
        "- Acurácia do modelo Random Forest\n",
        "***\n"
      ]
    },
    {
      "cell_type": "markdown",
      "metadata": {
        "id": "5kyWozvZ4Cb3"
      },
      "source": [
        "## SEM BALANCEAMENTO DA COLUNA TARGET\n",
        "\n",
        "***\n",
        "Utilização do DataFrame original - df_train\n",
        "***"
      ]
    },
    {
      "cell_type": "markdown",
      "metadata": {
        "id": "aPNuwqVYsnt_"
      },
      "source": [
        "###SEPARAÇÃO DO DATA FRAME EM TREINO E VALIDAÇÃO\n"
      ]
    },
    {
      "cell_type": "markdown",
      "metadata": {
        "id": "3YNsxKI5tLi3"
      },
      "source": [
        "RETIRADA DA COLUNA DE \"TARGET\" DA BASE ORIGINAL DO DADOS"
      ]
    },
    {
      "cell_type": "code",
      "execution_count": null,
      "metadata": {
        "id": "y_9ZlqEEtGr8"
      },
      "outputs": [],
      "source": [
        "y_train = df_train['target'].values\n",
        "id_train = df_train['id'].values\n",
        "\n",
        "x_train = df_train.drop(['target', 'id'], axis=1)"
      ]
    },
    {
      "cell_type": "markdown",
      "metadata": {
        "id": "syyJ8AHNtyEU"
      },
      "source": [
        "DIVISÃO DOS DADOS EM TREINO E TESTE\n",
        "- PARA O TESTE SERÁ CONSIDERADO 20% DA BASE"
      ]
    },
    {
      "cell_type": "code",
      "execution_count": null,
      "metadata": {
        "id": "0uEN-Yo3uIKD"
      },
      "outputs": [],
      "source": [
        "x_train, x_valid, y_train, y_valid = train_test_split(x_train, y_train, test_size=0.2, random_state=4242)\n",
        "\n",
        "print('Registro gerados para Treino: {}'.format(len(x_train)))\n",
        "print('Registro gerados para Teste: {}'.format(len(x_valid)))"
      ]
    },
    {
      "cell_type": "markdown",
      "metadata": {
        "id": "IWNVP2VBzjTx"
      },
      "source": [
        "###PREDIÇÃO USANDO O MODELO RANDOM FOREST E REGRESSÃO LOGÍSTICA"
      ]
    },
    {
      "cell_type": "markdown",
      "metadata": {
        "id": "dfGEvxwytYt1"
      },
      "source": [
        " #### INCLUSÃO DA BIBLIOTECA QUE SERÁ USADA PARA OS MODELOS E ACURÁCIAS"
      ]
    },
    {
      "cell_type": "code",
      "source": [
        "from sklearn.ensemble import RandomForestClassifier\n",
        "from sklearn.linear_model import LogisticRegression\n",
        "from sklearn.model_selection import cross_val_score"
      ],
      "metadata": {
        "id": "-Ny0JysksLeO"
      },
      "execution_count": null,
      "outputs": []
    },
    {
      "cell_type": "markdown",
      "metadata": {
        "id": "u2-i79YM0Sxs"
      },
      "source": [
        "#### GERAÇÃO DO MODELO RANDOM FOREST"
      ]
    },
    {
      "cell_type": "markdown",
      "metadata": {
        "id": "se3_fmf8w3MV"
      },
      "source": [
        "TREINO NO MODELO RANDOM FOREST"
      ]
    },
    {
      "cell_type": "code",
      "execution_count": null,
      "metadata": {
        "colab": {
          "base_uri": "https://localhost:8080/",
          "height": 346
        },
        "id": "cObpL5Y8w8UN",
        "outputId": "a58a2031-4551-4dae-9046-b71659b137ef"
      },
      "outputs": [
        {
          "output_type": "error",
          "ename": "KeyboardInterrupt",
          "evalue": "ignored",
          "traceback": [
            "\u001b[0;31m---------------------------------------------------------------------------\u001b[0m",
            "\u001b[0;31mKeyboardInterrupt\u001b[0m                         Traceback (most recent call last)",
            "\u001b[0;32m<ipython-input-104-c26d7631f8cc>\u001b[0m in \u001b[0;36m<module>\u001b[0;34m()\u001b[0m\n\u001b[1;32m      1\u001b[0m \u001b[0mmodelRF\u001b[0m \u001b[0;34m=\u001b[0m \u001b[0mRandomForestClassifier\u001b[0m\u001b[0;34m(\u001b[0m\u001b[0mclass_weight\u001b[0m\u001b[0;34m=\u001b[0m\u001b[0;34m\"balanced\"\u001b[0m\u001b[0;34m,\u001b[0m \u001b[0mmin_samples_split\u001b[0m\u001b[0;34m=\u001b[0m\u001b[0;36m10\u001b[0m\u001b[0;34m,\u001b[0m \u001b[0mn_jobs\u001b[0m\u001b[0;34m=\u001b[0m\u001b[0;34m-\u001b[0m\u001b[0;36m1\u001b[0m\u001b[0;34m)\u001b[0m\u001b[0;34m\u001b[0m\u001b[0;34m\u001b[0m\u001b[0m\n\u001b[1;32m      2\u001b[0m \u001b[0;34m\u001b[0m\u001b[0m\n\u001b[0;32m----> 3\u001b[0;31m \u001b[0mmodelRF\u001b[0m\u001b[0;34m.\u001b[0m\u001b[0mfit\u001b[0m\u001b[0;34m(\u001b[0m\u001b[0mx_train\u001b[0m\u001b[0;34m,\u001b[0m \u001b[0my_train\u001b[0m\u001b[0;34m)\u001b[0m\u001b[0;34m\u001b[0m\u001b[0;34m\u001b[0m\u001b[0m\n\u001b[0m",
            "\u001b[0;32m/usr/local/lib/python3.7/dist-packages/sklearn/ensemble/_forest.py\u001b[0m in \u001b[0;36mfit\u001b[0;34m(self, X, y, sample_weight)\u001b[0m\n\u001b[1;32m    465\u001b[0m                     \u001b[0mn_samples_bootstrap\u001b[0m\u001b[0;34m=\u001b[0m\u001b[0mn_samples_bootstrap\u001b[0m\u001b[0;34m,\u001b[0m\u001b[0;34m\u001b[0m\u001b[0;34m\u001b[0m\u001b[0m\n\u001b[1;32m    466\u001b[0m                 )\n\u001b[0;32m--> 467\u001b[0;31m                 \u001b[0;32mfor\u001b[0m \u001b[0mi\u001b[0m\u001b[0;34m,\u001b[0m \u001b[0mt\u001b[0m \u001b[0;32min\u001b[0m \u001b[0menumerate\u001b[0m\u001b[0;34m(\u001b[0m\u001b[0mtrees\u001b[0m\u001b[0;34m)\u001b[0m\u001b[0;34m\u001b[0m\u001b[0;34m\u001b[0m\u001b[0m\n\u001b[0m\u001b[1;32m    468\u001b[0m             )\n\u001b[1;32m    469\u001b[0m \u001b[0;34m\u001b[0m\u001b[0m\n",
            "\u001b[0;32m/usr/local/lib/python3.7/dist-packages/joblib/parallel.py\u001b[0m in \u001b[0;36m__call__\u001b[0;34m(self, iterable)\u001b[0m\n\u001b[1;32m   1054\u001b[0m \u001b[0;34m\u001b[0m\u001b[0m\n\u001b[1;32m   1055\u001b[0m             \u001b[0;32mwith\u001b[0m \u001b[0mself\u001b[0m\u001b[0;34m.\u001b[0m\u001b[0m_backend\u001b[0m\u001b[0;34m.\u001b[0m\u001b[0mretrieval_context\u001b[0m\u001b[0;34m(\u001b[0m\u001b[0;34m)\u001b[0m\u001b[0;34m:\u001b[0m\u001b[0;34m\u001b[0m\u001b[0;34m\u001b[0m\u001b[0m\n\u001b[0;32m-> 1056\u001b[0;31m                 \u001b[0mself\u001b[0m\u001b[0;34m.\u001b[0m\u001b[0mretrieve\u001b[0m\u001b[0;34m(\u001b[0m\u001b[0;34m)\u001b[0m\u001b[0;34m\u001b[0m\u001b[0;34m\u001b[0m\u001b[0m\n\u001b[0m\u001b[1;32m   1057\u001b[0m             \u001b[0;31m# Make sure that we get a last message telling us we are done\u001b[0m\u001b[0;34m\u001b[0m\u001b[0;34m\u001b[0m\u001b[0;34m\u001b[0m\u001b[0m\n\u001b[1;32m   1058\u001b[0m             \u001b[0melapsed_time\u001b[0m \u001b[0;34m=\u001b[0m \u001b[0mtime\u001b[0m\u001b[0;34m.\u001b[0m\u001b[0mtime\u001b[0m\u001b[0;34m(\u001b[0m\u001b[0;34m)\u001b[0m \u001b[0;34m-\u001b[0m \u001b[0mself\u001b[0m\u001b[0;34m.\u001b[0m\u001b[0m_start_time\u001b[0m\u001b[0;34m\u001b[0m\u001b[0;34m\u001b[0m\u001b[0m\n",
            "\u001b[0;32m/usr/local/lib/python3.7/dist-packages/joblib/parallel.py\u001b[0m in \u001b[0;36mretrieve\u001b[0;34m(self)\u001b[0m\n\u001b[1;32m    933\u001b[0m             \u001b[0;32mtry\u001b[0m\u001b[0;34m:\u001b[0m\u001b[0;34m\u001b[0m\u001b[0;34m\u001b[0m\u001b[0m\n\u001b[1;32m    934\u001b[0m                 \u001b[0;32mif\u001b[0m \u001b[0mgetattr\u001b[0m\u001b[0;34m(\u001b[0m\u001b[0mself\u001b[0m\u001b[0;34m.\u001b[0m\u001b[0m_backend\u001b[0m\u001b[0;34m,\u001b[0m \u001b[0;34m'supports_timeout'\u001b[0m\u001b[0;34m,\u001b[0m \u001b[0;32mFalse\u001b[0m\u001b[0;34m)\u001b[0m\u001b[0;34m:\u001b[0m\u001b[0;34m\u001b[0m\u001b[0;34m\u001b[0m\u001b[0m\n\u001b[0;32m--> 935\u001b[0;31m                     \u001b[0mself\u001b[0m\u001b[0;34m.\u001b[0m\u001b[0m_output\u001b[0m\u001b[0;34m.\u001b[0m\u001b[0mextend\u001b[0m\u001b[0;34m(\u001b[0m\u001b[0mjob\u001b[0m\u001b[0;34m.\u001b[0m\u001b[0mget\u001b[0m\u001b[0;34m(\u001b[0m\u001b[0mtimeout\u001b[0m\u001b[0;34m=\u001b[0m\u001b[0mself\u001b[0m\u001b[0;34m.\u001b[0m\u001b[0mtimeout\u001b[0m\u001b[0;34m)\u001b[0m\u001b[0;34m)\u001b[0m\u001b[0;34m\u001b[0m\u001b[0;34m\u001b[0m\u001b[0m\n\u001b[0m\u001b[1;32m    936\u001b[0m                 \u001b[0;32melse\u001b[0m\u001b[0;34m:\u001b[0m\u001b[0;34m\u001b[0m\u001b[0;34m\u001b[0m\u001b[0m\n\u001b[1;32m    937\u001b[0m                     \u001b[0mself\u001b[0m\u001b[0;34m.\u001b[0m\u001b[0m_output\u001b[0m\u001b[0;34m.\u001b[0m\u001b[0mextend\u001b[0m\u001b[0;34m(\u001b[0m\u001b[0mjob\u001b[0m\u001b[0;34m.\u001b[0m\u001b[0mget\u001b[0m\u001b[0;34m(\u001b[0m\u001b[0;34m)\u001b[0m\u001b[0;34m)\u001b[0m\u001b[0;34m\u001b[0m\u001b[0;34m\u001b[0m\u001b[0m\n",
            "\u001b[0;32m/usr/lib/python3.7/multiprocessing/pool.py\u001b[0m in \u001b[0;36mget\u001b[0;34m(self, timeout)\u001b[0m\n\u001b[1;32m    649\u001b[0m \u001b[0;34m\u001b[0m\u001b[0m\n\u001b[1;32m    650\u001b[0m     \u001b[0;32mdef\u001b[0m \u001b[0mget\u001b[0m\u001b[0;34m(\u001b[0m\u001b[0mself\u001b[0m\u001b[0;34m,\u001b[0m \u001b[0mtimeout\u001b[0m\u001b[0;34m=\u001b[0m\u001b[0;32mNone\u001b[0m\u001b[0;34m)\u001b[0m\u001b[0;34m:\u001b[0m\u001b[0;34m\u001b[0m\u001b[0;34m\u001b[0m\u001b[0m\n\u001b[0;32m--> 651\u001b[0;31m         \u001b[0mself\u001b[0m\u001b[0;34m.\u001b[0m\u001b[0mwait\u001b[0m\u001b[0;34m(\u001b[0m\u001b[0mtimeout\u001b[0m\u001b[0;34m)\u001b[0m\u001b[0;34m\u001b[0m\u001b[0;34m\u001b[0m\u001b[0m\n\u001b[0m\u001b[1;32m    652\u001b[0m         \u001b[0;32mif\u001b[0m \u001b[0;32mnot\u001b[0m \u001b[0mself\u001b[0m\u001b[0;34m.\u001b[0m\u001b[0mready\u001b[0m\u001b[0;34m(\u001b[0m\u001b[0;34m)\u001b[0m\u001b[0;34m:\u001b[0m\u001b[0;34m\u001b[0m\u001b[0;34m\u001b[0m\u001b[0m\n\u001b[1;32m    653\u001b[0m             \u001b[0;32mraise\u001b[0m \u001b[0mTimeoutError\u001b[0m\u001b[0;34m\u001b[0m\u001b[0;34m\u001b[0m\u001b[0m\n",
            "\u001b[0;32m/usr/lib/python3.7/multiprocessing/pool.py\u001b[0m in \u001b[0;36mwait\u001b[0;34m(self, timeout)\u001b[0m\n\u001b[1;32m    646\u001b[0m \u001b[0;34m\u001b[0m\u001b[0m\n\u001b[1;32m    647\u001b[0m     \u001b[0;32mdef\u001b[0m \u001b[0mwait\u001b[0m\u001b[0;34m(\u001b[0m\u001b[0mself\u001b[0m\u001b[0;34m,\u001b[0m \u001b[0mtimeout\u001b[0m\u001b[0;34m=\u001b[0m\u001b[0;32mNone\u001b[0m\u001b[0;34m)\u001b[0m\u001b[0;34m:\u001b[0m\u001b[0;34m\u001b[0m\u001b[0;34m\u001b[0m\u001b[0m\n\u001b[0;32m--> 648\u001b[0;31m         \u001b[0mself\u001b[0m\u001b[0;34m.\u001b[0m\u001b[0m_event\u001b[0m\u001b[0;34m.\u001b[0m\u001b[0mwait\u001b[0m\u001b[0;34m(\u001b[0m\u001b[0mtimeout\u001b[0m\u001b[0;34m)\u001b[0m\u001b[0;34m\u001b[0m\u001b[0;34m\u001b[0m\u001b[0m\n\u001b[0m\u001b[1;32m    649\u001b[0m \u001b[0;34m\u001b[0m\u001b[0m\n\u001b[1;32m    650\u001b[0m     \u001b[0;32mdef\u001b[0m \u001b[0mget\u001b[0m\u001b[0;34m(\u001b[0m\u001b[0mself\u001b[0m\u001b[0;34m,\u001b[0m \u001b[0mtimeout\u001b[0m\u001b[0;34m=\u001b[0m\u001b[0;32mNone\u001b[0m\u001b[0;34m)\u001b[0m\u001b[0;34m:\u001b[0m\u001b[0;34m\u001b[0m\u001b[0;34m\u001b[0m\u001b[0m\n",
            "\u001b[0;32m/usr/lib/python3.7/threading.py\u001b[0m in \u001b[0;36mwait\u001b[0;34m(self, timeout)\u001b[0m\n\u001b[1;32m    550\u001b[0m             \u001b[0msignaled\u001b[0m \u001b[0;34m=\u001b[0m \u001b[0mself\u001b[0m\u001b[0;34m.\u001b[0m\u001b[0m_flag\u001b[0m\u001b[0;34m\u001b[0m\u001b[0;34m\u001b[0m\u001b[0m\n\u001b[1;32m    551\u001b[0m             \u001b[0;32mif\u001b[0m \u001b[0;32mnot\u001b[0m \u001b[0msignaled\u001b[0m\u001b[0;34m:\u001b[0m\u001b[0;34m\u001b[0m\u001b[0;34m\u001b[0m\u001b[0m\n\u001b[0;32m--> 552\u001b[0;31m                 \u001b[0msignaled\u001b[0m \u001b[0;34m=\u001b[0m \u001b[0mself\u001b[0m\u001b[0;34m.\u001b[0m\u001b[0m_cond\u001b[0m\u001b[0;34m.\u001b[0m\u001b[0mwait\u001b[0m\u001b[0;34m(\u001b[0m\u001b[0mtimeout\u001b[0m\u001b[0;34m)\u001b[0m\u001b[0;34m\u001b[0m\u001b[0;34m\u001b[0m\u001b[0m\n\u001b[0m\u001b[1;32m    553\u001b[0m             \u001b[0;32mreturn\u001b[0m \u001b[0msignaled\u001b[0m\u001b[0;34m\u001b[0m\u001b[0;34m\u001b[0m\u001b[0m\n\u001b[1;32m    554\u001b[0m \u001b[0;34m\u001b[0m\u001b[0m\n",
            "\u001b[0;32m/usr/lib/python3.7/threading.py\u001b[0m in \u001b[0;36mwait\u001b[0;34m(self, timeout)\u001b[0m\n\u001b[1;32m    294\u001b[0m         \u001b[0;32mtry\u001b[0m\u001b[0;34m:\u001b[0m    \u001b[0;31m# restore state no matter what (e.g., KeyboardInterrupt)\u001b[0m\u001b[0;34m\u001b[0m\u001b[0;34m\u001b[0m\u001b[0m\n\u001b[1;32m    295\u001b[0m             \u001b[0;32mif\u001b[0m \u001b[0mtimeout\u001b[0m \u001b[0;32mis\u001b[0m \u001b[0;32mNone\u001b[0m\u001b[0;34m:\u001b[0m\u001b[0;34m\u001b[0m\u001b[0;34m\u001b[0m\u001b[0m\n\u001b[0;32m--> 296\u001b[0;31m                 \u001b[0mwaiter\u001b[0m\u001b[0;34m.\u001b[0m\u001b[0macquire\u001b[0m\u001b[0;34m(\u001b[0m\u001b[0;34m)\u001b[0m\u001b[0;34m\u001b[0m\u001b[0;34m\u001b[0m\u001b[0m\n\u001b[0m\u001b[1;32m    297\u001b[0m                 \u001b[0mgotit\u001b[0m \u001b[0;34m=\u001b[0m \u001b[0;32mTrue\u001b[0m\u001b[0;34m\u001b[0m\u001b[0;34m\u001b[0m\u001b[0m\n\u001b[1;32m    298\u001b[0m             \u001b[0;32melse\u001b[0m\u001b[0;34m:\u001b[0m\u001b[0;34m\u001b[0m\u001b[0;34m\u001b[0m\u001b[0m\n",
            "\u001b[0;31mKeyboardInterrupt\u001b[0m: "
          ]
        }
      ],
      "source": [
        "modelRF = RandomForestClassifier(class_weight=\"balanced\", min_samples_split=10, n_jobs=-1)\n",
        "\n",
        "modelRF.fit(x_train, y_train)"
      ]
    },
    {
      "cell_type": "code",
      "execution_count": null,
      "metadata": {
        "id": "iDSUdMSczosz"
      },
      "outputs": [],
      "source": [
        "y_RF = modelRF.predict(x_valid)"
      ]
    },
    {
      "cell_type": "markdown",
      "metadata": {
        "id": "w875-Z-OztsQ"
      },
      "source": [
        "MATRIZ DE CONFUSÃO PARA DA VALIDAÇÃO DO MODELO - RANDOM FOREST -"
      ]
    },
    {
      "cell_type": "code",
      "execution_count": null,
      "metadata": {
        "id": "wGzQMfy-sfOm"
      },
      "outputs": [],
      "source": [
        "cm = confusion_matrix(y_valid, y_RF)\n",
        "ConfusionMatrixDisplay(cm).plot();"
      ]
    },
    {
      "cell_type": "markdown",
      "metadata": {
        "id": "E-NUw9qC63gI"
      },
      "source": [
        "ACURÁCIA DO MODELO RANDOM FOREST"
      ]
    },
    {
      "cell_type": "code",
      "execution_count": null,
      "metadata": {
        "id": "69V3d43k5dOV"
      },
      "outputs": [],
      "source": [
        "# Calculo de acurácia do Random Forest sem Tratamento\n",
        "acur_RFST = metrics.accuracy_score(y_valid, y_RF)\n",
        "print('Acurácia: ', acur_RFST)\n"
      ]
    },
    {
      "cell_type": "markdown",
      "source": [
        "CROSS VALIDATED PARA RANDOM FOREST SEM TRATAMENTO E SEM BALANCEAMENTO"
      ],
      "metadata": {
        "id": "g__vrqy5qQAa"
      }
    },
    {
      "cell_type": "code",
      "source": [
        "# CV_RFST = Cross Validated Random Forest sem Tratamento\n",
        "from sklearn.model_selection import cross_val_score\n",
        "\n",
        "scoreCV_RFsT = cross_val_score(modelRF, x_train, y_train, cv=5)\n",
        "print(scoreCV_RFsT)\n",
        "\n",
        "print(\"******************************************* RESULTADO COMPARATIVO ***********************************************\")\n",
        "print(\"Acurácia Random Forest normal:                             %0.2f\" % acur_RFST)\n",
        "print(\"Desvio Padrão Random Forest - Cross Validated:             %0.2f\" % (scoreCV_RFsT.std()))\n",
        "print(\"Acurácia CV_RF:                                            %0.2f\" % (scoreCV_RFsT.mean()))\n",
        "print(\"*****************************************************************************************************************\")"
      ],
      "metadata": {
        "id": "katzFz5AlhQz"
      },
      "execution_count": null,
      "outputs": []
    },
    {
      "cell_type": "markdown",
      "metadata": {
        "id": "NIeYExxu1e0V"
      },
      "source": [
        "#### GERAÇÃO DO MODELO REGRESSÃO LOGÍSTICA"
      ]
    },
    {
      "cell_type": "markdown",
      "metadata": {
        "id": "mrQOI7jg1ze8"
      },
      "source": [
        "TREINO PARA REGRESSÃO LOGÍSTICA"
      ]
    },
    {
      "cell_type": "code",
      "execution_count": null,
      "metadata": {
        "id": "PalCrx3j13QG"
      },
      "outputs": [],
      "source": [
        "modelRL = LogisticRegression(max_iter=5000)\n",
        "\n",
        "modelRL.fit(x_train,y_train)\n"
      ]
    },
    {
      "cell_type": "markdown",
      "metadata": {
        "id": "2sQy1v_W2cn_"
      },
      "source": [
        "PREDIÇÃO PARA REGRESSÃO LOGÍSTICA"
      ]
    },
    {
      "cell_type": "code",
      "execution_count": null,
      "metadata": {
        "id": "4YFq7ypu2hj5"
      },
      "outputs": [],
      "source": [
        "y_RLST = modelRL.predict(x_valid)"
      ]
    },
    {
      "cell_type": "markdown",
      "metadata": {
        "id": "AEil64Uq6l2v"
      },
      "source": [
        "MATRIZ DE CONFUSÃO PARA AVALIAÇÃO DO MODELO"
      ]
    },
    {
      "cell_type": "code",
      "execution_count": null,
      "metadata": {
        "id": "BWAKXpnh6qi3"
      },
      "outputs": [],
      "source": [
        "cm = confusion_matrix(y_valid, y_RLST)\n",
        "ConfusionMatrixDisplay(cm).plot();"
      ]
    },
    {
      "cell_type": "markdown",
      "metadata": {
        "id": "pio-bANU7ChT"
      },
      "source": [
        "ACURÁCIA DO MODELO REGRESSÃO LINEAR"
      ]
    },
    {
      "cell_type": "code",
      "execution_count": null,
      "metadata": {
        "id": "dIiCuYXG6dBm"
      },
      "outputs": [],
      "source": [
        "acur_RLST = metrics.accuracy_score(y_valid, y_RLST)\n",
        "print('Acurácia: ',acur_RLST)\n",
        "print('Acurácia: ',metrics.accuracy_score(y_valid, y_RLST, normalize=False))"
      ]
    },
    {
      "cell_type": "markdown",
      "source": [
        "CROSS VALIDATED PARA REGRESSAO LOGISTICA SEM TRATAMENTO E SEM BALANCEAMENTO"
      ],
      "metadata": {
        "id": "kPkmNsLb6dDZ"
      }
    },
    {
      "cell_type": "code",
      "source": [
        "# CV_RFST = Cross Validated Regressão Logística sem Tratamento\n",
        "\n",
        "scoreCV_RLsT = cross_val_score(modelRL, x_train, y_train, cv=5)\n",
        "print(scoreCV_RLsT)\n",
        "\n",
        "print (\"  \")\n",
        "print(\"******************************************* RESULTADO COMPARATIVO ***********************************************\")\n",
        "print(\"Acurácia Regressao Logistica normal                        %0.2f\" % acur_RLST)\n",
        "print(\"Desvio Padrão Regressao Logistica - Cross Validated:       %0.2f\" % (scoreCV_RLsT.std()))\n",
        "print(\"Acurácia CV_RL:                                            %0.2f\" % (scoreCV_RLsT.mean()))\n",
        "print(\"*****************************************************************************************************************\")"
      ],
      "metadata": {
        "id": "V8uFEjp86aoQ"
      },
      "execution_count": null,
      "outputs": []
    },
    {
      "cell_type": "markdown",
      "metadata": {
        "id": "-8va4M2V1lFM"
      },
      "source": [
        "# ANÁLISE DAS COLUNAS DE MISSING\n",
        "\n",
        "***\n",
        "- Demonstrar os Missing retirando o atribuido \"-1\"\n",
        "- Análise das colunas\n",
        "***"
      ]
    },
    {
      "cell_type": "markdown",
      "metadata": {
        "id": "8kzgiFgl423C"
      },
      "source": [
        "## PARAMETROS"
      ]
    },
    {
      "cell_type": "code",
      "execution_count": null,
      "metadata": {
        "id": "Icfx7gXd6duL"
      },
      "outputs": [],
      "source": [
        "import missingno as msno "
      ]
    },
    {
      "cell_type": "code",
      "execution_count": null,
      "metadata": {
        "id": "ugjGfZjI23vn"
      },
      "outputs": [],
      "source": [
        "%matplotlib inline \n",
        "\n",
        "from IPython.display import set_matplotlib_formats\n",
        "set_matplotlib_formats('pdf','png')\n",
        "pd.options.display.float_format = '{:.2f}'.format\n",
        "rc={'savefig.dpi':75,\n",
        "    'figure.autolayout':False,\n",
        "    'figure.figsize':[12,8],\n",
        "    'axes.labelsize': 18,\n",
        "    'axes.titlesize':18,\n",
        "    'font.size': 18,\n",
        "    'lines.linewidth': 2.0,\n",
        "    'lines.markersize': 8,\n",
        "    'legend.fontsize': 16,\n",
        "    'xtick.labelsize': 16,\n",
        "    'ytick.labelsize': 16}\n",
        "sns.set(style='dark',rc=rc)\n",
        "\n",
        "\n",
        "default_color = '#56B4E9'\n",
        "colormap = plt.cm.cool"
      ]
    },
    {
      "cell_type": "markdown",
      "metadata": {
        "id": "BbkaMoAD2ksz"
      },
      "source": [
        "## TRATAMENTO DE MISSINGS"
      ]
    },
    {
      "cell_type": "markdown",
      "metadata": {
        "id": "0JIrwTxw3HDM"
      },
      "source": [
        "Os dados missings foram tratados com \"-1\", logo existem dados faltantes, o que será demonstrado nos gráficos abaixo."
      ]
    },
    {
      "cell_type": "code",
      "execution_count": null,
      "metadata": {
        "id": "QDJ4Y3HJ3Q8D"
      },
      "outputs": [],
      "source": [
        " # substituição do -1 por NaN para que possa utilizar as ferramentas da biblioteca \"Missingno\" no tratamento dos dados faltantes. \n",
        "\n",
        "from numpy.core.numeric import NaN \n",
        "df_NaN = df_train.replace(-1,NaN)\n",
        "\n",
        "# contagem do numero de dados faltantes e exibição das observações que possuem dados faltantes.\n",
        "df_NaN.isnull().sum() "
      ]
    },
    {
      "cell_type": "code",
      "execution_count": null,
      "metadata": {
        "id": "OBsSyfln5GK0"
      },
      "outputs": [],
      "source": [
        "# DataFrame com as colunas que possuem dados faltantes.\n",
        "\n",
        "missingValueColumns = df_NaN.columns[df_NaN.isnull().any()].tolist()\n",
        "df_Ausentes = df_NaN[missingValueColumns]\n",
        "\n",
        "# colunas e quantidades de valores ausente\n",
        "\n",
        "df_Ausentes.isnull().sum()"
      ]
    },
    {
      "cell_type": "markdown",
      "metadata": {
        "id": "CY26BG4m7C2e"
      },
      "source": [
        "Gráfico das colunas de missing com quantidade de registros preenchidos "
      ]
    },
    {
      "cell_type": "code",
      "execution_count": null,
      "metadata": {
        "id": "-AJkm3GM6Otc"
      },
      "outputs": [],
      "source": [
        "\n",
        "msno.bar(df_Ausentes, figsize=(20,8), color=default_color, fontsize=18, labels=True)"
      ]
    },
    {
      "cell_type": "markdown",
      "metadata": {
        "id": "pSyEFV5z7WlM"
      },
      "source": [
        "Gráfico Percentual das colunas de missing"
      ]
    },
    {
      "cell_type": "code",
      "execution_count": null,
      "metadata": {
        "id": "vbdXDK9C7Vwo"
      },
      "outputs": [],
      "source": [
        "ax = sns.countplot(data=df_Ausentes)\n",
        "\n",
        "for p in ax.patches:\n",
        "  ax.annotate('{:.2f}%'.format(100*p.get_height()/len(df_Ausentes)), (p.get_x()+ 0.3, p.get_height()+1000))"
      ]
    },
    {
      "cell_type": "markdown",
      "metadata": {
        "id": "5fbfH8vR8txl"
      },
      "source": [
        "Associação entre as variaveis missing"
      ]
    },
    {
      "cell_type": "code",
      "execution_count": null,
      "metadata": {
        "id": "6qF7ruTA8XbA"
      },
      "outputs": [],
      "source": [
        "\n",
        "msno.dendrogram(df_Ausentes, figsize=(20,8))"
      ]
    },
    {
      "cell_type": "markdown",
      "metadata": {
        "id": "K7BAdfdjMPAu"
      },
      "source": [
        "# GERAÇÃO DE MODELO PARA CÁLCULO DE ACURÁCIA COM TRATAMENTO DE DADOS\n",
        "\n",
        "\n",
        "\n",
        "\n"
      ]
    },
    {
      "cell_type": "markdown",
      "metadata": {
        "id": "imLG1y7LNaaK"
      },
      "source": [
        "## RETIRADA DAS COLUNAS PS_CAR_03_CAT e PS_CAR_05_CAT"
      ]
    },
    {
      "cell_type": "markdown",
      "source": [
        "### GERAÇÃO DO DATAFRAME E DIVISÃO EM TREINO E TESTE"
      ],
      "metadata": {
        "id": "L9NRcu9Izptb"
      }
    },
    {
      "cell_type": "code",
      "execution_count": null,
      "metadata": {
        "id": "ZJJulrh9NvzQ"
      },
      "outputs": [],
      "source": [
        "# COPIA DO DATAFRAME ORIGINAL\n",
        "\n",
        "df_missing = df_train.copy()\n",
        "df_missing = df_missing.drop(columns=['ps_car_03_cat', 'ps_car_05_cat'])\n",
        "df_missing.info()"
      ]
    },
    {
      "cell_type": "code",
      "source": [
        "# RETIRADO DO DATA FRAME DA COLUNA DE TARGET\n",
        "\n",
        "y_train = df_missing['target'].values\n",
        "id_train = df_missing['id'].values\n",
        "\n",
        "x_train = df_missing.drop(['target', 'id'], axis=1)"
      ],
      "metadata": {
        "id": "CMsT355Vh2YR"
      },
      "execution_count": null,
      "outputs": []
    },
    {
      "cell_type": "code",
      "source": [
        "# SEPARAÇÃO DO DATA FRAME EM TREINO E VALIDAÇÃO, CONSIDERANDO 20% PARA TESTE\n",
        "\n",
        "x_train, x_valid, y_train, y_valid = train_test_split(x_train, y_train, test_size=0.2, random_state=4242)\n",
        "\n",
        "print('Registro gerados para Treino: {}'.format(len(x_train)))\n",
        "print('Registro gerados para Teste: {}'.format(len(x_valid)))"
      ],
      "metadata": {
        "id": "QPO-NnJiiNS-"
      },
      "execution_count": null,
      "outputs": []
    },
    {
      "cell_type": "markdown",
      "source": [
        "### RANDOM FOREST"
      ],
      "metadata": {
        "id": "TxD6HF2IzYJH"
      }
    },
    {
      "cell_type": "code",
      "source": [
        "# GERAÇÃO DO MODELO UTILIZANDO RANDOM FOREST\n",
        "\n",
        "Model_MRF = RandomForestClassifier(class_weight=\"balanced\", min_samples_split=10, n_jobs=-1)\n",
        "\n",
        "Model_MRF.fit(x_train, y_train)"
      ],
      "metadata": {
        "id": "4wxs6WGvic2Y"
      },
      "execution_count": null,
      "outputs": []
    },
    {
      "cell_type": "code",
      "source": [
        "# PREDIÇÃO USANDO O MODELO APRESENTADO NO COMANDO ANTERIOR\n",
        "\n",
        "y_MRF = Model_MRF.predict(x_valid)"
      ],
      "metadata": {
        "id": "QwcBvr9ziulR"
      },
      "execution_count": null,
      "outputs": []
    },
    {
      "cell_type": "code",
      "source": [
        "# MATRIZ DE CONFUSÃO PARA ANALISE DOS DADOS GERADOS PELO MODELO\n",
        "\n",
        "cm = confusion_matrix(y_valid, y_MRF)\n",
        "ConfusionMatrixDisplay(cm).plot();"
      ],
      "metadata": {
        "id": "MsLEJXWZi74N"
      },
      "execution_count": null,
      "outputs": []
    },
    {
      "cell_type": "code",
      "source": [
        "# ACURÁCIA DA PREDIÇÃO \n",
        "\n",
        "acur_M35RF = metrics.accuracy_score(y_valid, y_MRF)\n",
        "\n",
        "print('Acurácia: ',acur_M35RF)"
      ],
      "metadata": {
        "id": "SkyYjhSsxpVX"
      },
      "execution_count": null,
      "outputs": []
    },
    {
      "cell_type": "code",
      "source": [
        "# CV_M35RF = Cross Validated Random Forest - Retirando 2 colunas missing\n",
        "\n",
        "scoreCV_M35RF = cross_val_score(Model_MRF, x_train, y_train, cv=5)\n",
        "print(scoreCV_M35RF)\n",
        "\n",
        "print(\"******************************************* RESULTADO COMPARATIVO ***********************************************\")\n",
        "print(\"Acurácia Random Forest normal:                             %0.2f\" % acur_M35RF)\n",
        "print(\"Desvio Padrão Random Forest - Cross Validated:             %0.2f\" % (scoreCV_M35RF.std()))\n",
        "print(\"Acurácia CV_RF:                                            %0.2f\" % (scoreCV_M35RF.mean()))\n",
        "print(\"*****************************************************************************************************************\")"
      ],
      "metadata": {
        "id": "kc2ITXunywBi"
      },
      "execution_count": null,
      "outputs": []
    },
    {
      "cell_type": "markdown",
      "source": [
        "### REGRESSÃO LOGISTICA"
      ],
      "metadata": {
        "id": "wMrcUxAwzcEg"
      }
    },
    {
      "cell_type": "code",
      "source": [
        "# MODELO DE REGRESSÃO LOGÍSTICA\n",
        "\n",
        "logistic_regression= LogisticRegression(max_iter=5000)\n",
        "\n",
        "logistic_regression.fit(x_train,y_train)"
      ],
      "metadata": {
        "id": "YowCbc2Nzhla"
      },
      "execution_count": null,
      "outputs": []
    },
    {
      "cell_type": "code",
      "source": [
        "# PREDIÇÃO DO MODELO REGRESSÃO LOGÍSTICA\n",
        "\n",
        "y_MMRL = logistic_regression.predict(x_valid)"
      ],
      "metadata": {
        "id": "8b099DA10ZU_"
      },
      "execution_count": null,
      "outputs": []
    },
    {
      "cell_type": "code",
      "source": [
        "# DEMONSTRAÇÃO DA MATRIZ DE CONFUSÃO\n",
        "\n",
        "cm = confusion_matrix(y_valid, y_MMRL)\n",
        "ConfusionMatrixDisplay(cm).plot();"
      ],
      "metadata": {
        "id": "GCZY_X0P0o0h"
      },
      "execution_count": null,
      "outputs": []
    },
    {
      "cell_type": "code",
      "source": [
        "# ACURÁCIA DO MODELO REGRESSÃO LOGÍSTICA\n",
        "\n",
        "acur_M35RL = metrics.accuracy_score(y_valid, y_MMRL)\n",
        "\n",
        "print('Acurácia: ',acur_M35RL)\n",
        "print('Acurácia: ',metrics.accuracy_score(y_valid, y_MMRL, normalize=False))"
      ],
      "metadata": {
        "id": "d0THR2nA0uIK"
      },
      "execution_count": null,
      "outputs": []
    },
    {
      "cell_type": "code",
      "source": [
        "# CV_M35RF = Cross Validated REGRESSÃO LOGÍSTICA - Retirando 2 colunas missing\n",
        "\n",
        "scoreCV_M35RL = cross_val_score(Model_MRF, x_train, y_train, cv=5)\n",
        "print(scoreCV_M35RL)\n",
        "\n",
        "print(\"******************************************* RESULTADO COMPARATIVO ***********************************************\")\n",
        "print(\"Acurácia Regressão Logística normal:                       %0.2f\" % acur_M35RL)\n",
        "print(\"Desvio Padrão Regressão Logística - Cross Validated:       %0.2f\" % (scoreCV_M35RL.std()))\n",
        "print(\"Acurácia CV_RL:                                            %0.2f\" % (scoreCV_M35RL.mean()))\n",
        "print(\"*****************************************************************************************************************\")"
      ],
      "metadata": {
        "id": "p5plHZ7b1mAe"
      },
      "execution_count": null,
      "outputs": []
    },
    {
      "cell_type": "markdown",
      "source": [
        "## RETIRADA DE TODAS AS LINHAS MISSING"
      ],
      "metadata": {
        "id": "-6duvmVA28oh"
      }
    },
    {
      "cell_type": "markdown",
      "source": [
        "### IDENTIFICAÇÃO DOS MISSING E RETIRADA"
      ],
      "metadata": {
        "id": "u3L02pKQ6uRc"
      }
    },
    {
      "cell_type": "code",
      "source": [
        "# substituição do -1 por NaN para que possa utilizar as ferramentas da biblioteca \"Missingno\" no tratamento dos dados faltantes. \n",
        "\n",
        "from numpy.core.numeric import NaN \n",
        "df_missing = df_missing.replace(-1,NaN)\n",
        "\n",
        "# contagem do numero de dados faltantes e exibição das observações que possuem dados faltantes.\n",
        "df_missing.isnull().sum() "
      ],
      "metadata": {
        "id": "X7tSYEpb3VHe"
      },
      "execution_count": null,
      "outputs": []
    },
    {
      "cell_type": "code",
      "source": [
        "# RETIRADA DOS REGISTROS NULOS\n",
        "\n",
        "df_missing = df_missing.dropna(axis=0)\n",
        "\n",
        "df_missing.info()"
      ],
      "metadata": {
        "id": "vuTlTRMK0Esh"
      },
      "execution_count": null,
      "outputs": []
    },
    {
      "cell_type": "code",
      "source": [
        "# DEMONSTRAÇÃO QUE NÃO EXISTE COLUNAS COM NULO\n",
        "\n",
        "df_missing.isnull().sum() "
      ],
      "metadata": {
        "id": "izNj1nJX0KfX"
      },
      "execution_count": null,
      "outputs": []
    },
    {
      "cell_type": "code",
      "source": [
        "# QUANTIDADE DE REGISTROS POR ALVO APÓS RETIRADA DE MISSING\n",
        "\n",
        "df_missing.target.value_counts()"
      ],
      "metadata": {
        "id": "ARNfznJF0PnH"
      },
      "execution_count": null,
      "outputs": []
    },
    {
      "cell_type": "code",
      "source": [
        "# QUANTIDADE DE REGISTRO EM PERCENTUAL\n",
        "\n",
        "qtd_target = df_missing['target'].value_counts()\n",
        "\n",
        "\n",
        "print('Quantidade de registros ' , df_missing['target'].min() , ':' ,qtd_target[0], 'corresponde a:', qtd_target[0]/qtd_target.sum() * 100)\n",
        "print('Quantidade de registros ' , df_missing['target'].max() , ':' ,qtd_target[1], 'corresponde a:', qtd_target[1]/qtd_target.sum() * 100)"
      ],
      "metadata": {
        "id": "bNTHH8xN0Vo2"
      },
      "execution_count": null,
      "outputs": []
    },
    {
      "cell_type": "markdown",
      "source": [
        "### SEPARAÇÃO DOS DADOS"
      ],
      "metadata": {
        "id": "psT9FKD42zdd"
      }
    },
    {
      "cell_type": "code",
      "source": [
        "\n",
        "y_train = df_missing['target'].values\n",
        "id_train = df_missing['id'].values\n",
        "\n",
        "x_train = df_missing.drop(['target', 'id'], axis=1)\n",
        "\n",
        "# FAZ SEPARAÇÃO DOS DADOS EM TREINO E VALIDAÇÃO\n",
        "\n",
        "x_train, x_valid, y_train, y_valid = train_test_split(x_train, y_train, test_size=0.2, random_state=4242)\n",
        "\n",
        "print('Registro gerados para Treino: {}'.format(len(x_train)))\n",
        "print('Registro gerados para Teste: {}'.format(len(x_valid)))"
      ],
      "metadata": {
        "id": "NSVn_v6V0cj4"
      },
      "execution_count": null,
      "outputs": []
    },
    {
      "cell_type": "markdown",
      "source": [
        "### MODELO RANDOM FOREST SEM MISSING"
      ],
      "metadata": {
        "id": "iHTG4y-u23tS"
      }
    },
    {
      "cell_type": "code",
      "source": [
        "# RANDOM FOREST PARA DATAFRAME SEM REGISTROS MISSING\n",
        "\n",
        "Modelmmrf = RandomForestClassifier(class_weight=\"balanced\", min_samples_split=10, n_jobs=-1)\n",
        "\n",
        "Modelmmrf.fit(x_train, y_train)"
      ],
      "metadata": {
        "id": "zjwokxFH0zx8"
      },
      "execution_count": null,
      "outputs": []
    },
    {
      "cell_type": "code",
      "source": [
        "y_MMRF = Modelmmrf.predict(x_valid)"
      ],
      "metadata": {
        "id": "Sl1VbVeS1Aon"
      },
      "execution_count": null,
      "outputs": []
    },
    {
      "cell_type": "code",
      "source": [
        "# MATRIZ DE CONFUSÃO PARA RANDOM FOREST SEM REGISTRO MISSING\n",
        "\n",
        "cm = confusion_matrix(y_valid, y_MMRF)\n",
        "ConfusionMatrixDisplay(cm).plot();"
      ],
      "metadata": {
        "id": "D7PlnC3H1Dds"
      },
      "execution_count": null,
      "outputs": []
    },
    {
      "cell_type": "code",
      "source": [
        "acur_MALLRF = metrics.accuracy_score(y_valid, y_MMRF)\n",
        "\n",
        "print('Acurácia: ',acur_MALLRF)"
      ],
      "metadata": {
        "id": "iVMS7iaa1OZo"
      },
      "execution_count": null,
      "outputs": []
    },
    {
      "cell_type": "code",
      "source": [
        "# CV_MALLRF = Cross Validated RANDOM FOREST - Retirando todos registros missing\n",
        "\n",
        "scoreCV_MALLRF = cross_val_score(Modelmmrf, x_train, y_train, cv=5)\n",
        "print(scoreCV_MALLRF)\n",
        "\n",
        "print(\"******************************************* RESULTADO COMPARATIVO ***********************************************\")\n",
        "print(\"Acurácia Regressão Logística normal:                       %0.2f\" % acur_MALLRF)\n",
        "print(\"Desvio Padrão Regressão Logística - Cross Validated:       %0.2f\" % (scoreCV_MALLRF.std()))\n",
        "print(\"Acurácia CV_RL:                                            %0.2f\" % (scoreCV_MALLRF.mean()))\n",
        "print(\"*****************************************************************************************************************\")"
      ],
      "metadata": {
        "id": "pJKjXfj53DRP"
      },
      "execution_count": null,
      "outputs": []
    },
    {
      "cell_type": "markdown",
      "source": [
        "### REGRESSÃO LOGÍSTICA SEM MISSING"
      ],
      "metadata": {
        "id": "1hHhniPe4Lz7"
      }
    },
    {
      "cell_type": "code",
      "source": [
        "modelRLSM = LogisticRegression(max_iter=5000)\n",
        "\n",
        "modelRLSM.fit(x_train,y_train)\n"
      ],
      "metadata": {
        "id": "1rv3Z1LH4Pg5"
      },
      "execution_count": null,
      "outputs": []
    },
    {
      "cell_type": "code",
      "source": [
        "y_RLSM = modelRLSM.predict(x_valid)"
      ],
      "metadata": {
        "id": "OzARM7P64jZd"
      },
      "execution_count": null,
      "outputs": []
    },
    {
      "cell_type": "code",
      "source": [
        "cm = confusion_matrix(y_valid, y_RLSM)\n",
        "ConfusionMatrixDisplay(cm).plot();"
      ],
      "metadata": {
        "id": "MGEXayRd45-Q"
      },
      "execution_count": null,
      "outputs": []
    },
    {
      "cell_type": "code",
      "source": [
        "acur_MALLRL = metrics.accuracy_score(y_valid, y_RLSM)\n",
        "\n",
        "print('Acurácia: ', acur_MALLRL)\n",
        "print('Acurácia: ',metrics.accuracy_score(y_valid, y_RLSM, normalize=False))"
      ],
      "metadata": {
        "id": "SQLgGgcv5A41"
      },
      "execution_count": null,
      "outputs": []
    },
    {
      "cell_type": "code",
      "source": [
        "# CV_MALLRL = Cross Validated REGRESSÃO LOGÍSTICA - Retirando todos registros missing\n",
        "\n",
        "scoreCV_MALLRL = cross_val_score(modelRLSM, x_train, y_train, cv=5)\n",
        "print(scoreCV_MALLRL)\n",
        "\n",
        "print(\"******************************************* RESULTADO COMPARATIVO ***********************************************\")\n",
        "print(\"Acurácia Regressão Logística normal:                       %0.2f\" % acur_MALLRL)\n",
        "print(\"Desvio Padrão Regressão Logística - Cross Validated:       %0.2f\" % (scoreCV_MALLRL.std()))\n",
        "print(\"Acurácia CV_RL:                                            %0.2f\" % (scoreCV_MALLRL.mean()))\n",
        "print(\"*****************************************************************************************************************\")"
      ],
      "metadata": {
        "id": "UvjWXZT95VXg"
      },
      "execution_count": null,
      "outputs": []
    },
    {
      "cell_type": "markdown",
      "source": [
        "## BALANCEAMENTO DA BASE"
      ],
      "metadata": {
        "id": "Fpnpmlc68NEl"
      }
    },
    {
      "cell_type": "markdown",
      "source": [
        "### SEM TRATAMENTO DAS COLUNAS"
      ],
      "metadata": {
        "id": "8MLRPKqI86bS"
      }
    },
    {
      "cell_type": "markdown",
      "source": [
        "#### SEPARAÇÃO DA BASE EM TAMANHO IGUAL PELO COLUNA TARGET"
      ],
      "metadata": {
        "id": "0NSZuAnx8c_u"
      }
    },
    {
      "cell_type": "code",
      "source": [
        "# CRIAÇÃO DE DATAFRAME COM QUANTIDADE IGUAIS DE REGISTROS DO TARGET \n",
        "\n",
        "dftarget_1 = df_train.loc[df_train['target']==1]\n",
        "dftarget_0 = df_train.loc[df_train['target']==0]\n",
        "\n",
        "# SELECIONA ALEATORIAMENTE A MESMA QUANTIDADE DE REGISTRO DO TARGET 1\n",
        "dftarget_0ale = dftarget_0.sample(21694)\n",
        "\n",
        "dftarget = pd.merge(dftarget_1, dftarget_0ale, how = 'outer')\n",
        "\n",
        "\n",
        "print(\"Somente registros TARGET = 1:\" ,    dftarget_1['target'].value_counts())\n",
        "print(\"Somente registros TARGET = 0:\",     dftarget_0['target'].value_counts())\n",
        "print(\"Novo Dataframe Balanceado:\" ,       dftarget['target'].value_counts())\n"
      ],
      "metadata": {
        "id": "0R2uo08j8iHS"
      },
      "execution_count": null,
      "outputs": []
    },
    {
      "cell_type": "markdown",
      "source": [
        "#### SEPARAÇÃO DO DATAFRAME EM TESTE E VALIDAÇÃO"
      ],
      "metadata": {
        "id": "LO6QWOBL_O2x"
      }
    },
    {
      "cell_type": "code",
      "source": [
        "y2_train = dftarget['target'].values\n",
        "id2_train = dftarget['id'].values\n",
        "\n",
        "x_train2 = dftarget.drop(['target', 'id'], axis=1)"
      ],
      "metadata": {
        "id": "wcT7erdm_UH7"
      },
      "execution_count": null,
      "outputs": []
    },
    {
      "cell_type": "code",
      "source": [
        "x_train2, x_valid2, y2_train, y2_valid = train_test_split(x_train2, y2_train, test_size=0.2, random_state=4242)\n",
        "\n",
        "print('Registro gerados para Treino: {}'.format(len(x_train2)))\n",
        "print('Registro gerados para Teste: {}'.format(len(x_valid2)))"
      ],
      "metadata": {
        "id": "kE1Hl0WW_agI"
      },
      "execution_count": null,
      "outputs": []
    },
    {
      "cell_type": "markdown",
      "source": [
        "#### RANDOM FOREST "
      ],
      "metadata": {
        "id": "LECVNn0i_zYK"
      }
    },
    {
      "cell_type": "code",
      "source": [
        "# BSTRF = BALANCEADA SEM TRATAMENTO RANDOM FOREST\n",
        "\n",
        "model_BSTRF = RandomForestClassifier(class_weight=\"balanced\", min_samples_split=10, n_jobs=-1)\n",
        "\n",
        "model_BSTRF.fit(x_train2, y2_train)"
      ],
      "metadata": {
        "id": "5a3YO8W5_6Oe"
      },
      "execution_count": null,
      "outputs": []
    },
    {
      "cell_type": "code",
      "source": [
        "y_BSTRF = model_BSTRF.predict(x_valid2)"
      ],
      "metadata": {
        "id": "9ZRKZPAzAOjj"
      },
      "execution_count": null,
      "outputs": []
    },
    {
      "cell_type": "code",
      "source": [
        "cm = confusion_matrix(y2_valid, y_BSTRF)\n",
        "ConfusionMatrixDisplay(cm).plot();"
      ],
      "metadata": {
        "id": "mrXHXZyXAUNb"
      },
      "execution_count": null,
      "outputs": []
    },
    {
      "cell_type": "code",
      "source": [
        "acur_BSTRF = metrics.accuracy_score(y2_valid, y_BSTRF)\n",
        "\n",
        "print('Acurácia: ', acur_BSTRF)"
      ],
      "metadata": {
        "id": "qqrXb21tAXoy"
      },
      "execution_count": null,
      "outputs": []
    },
    {
      "cell_type": "code",
      "source": [
        "# CV_BSTRF = Cross Validated RANDOM FOREST - Balanceado\n",
        "\n",
        "scoreCV_BSTRF = cross_val_score(model_BSTRF, x_train2, y2_train, cv=5)\n",
        "print(scoreCV_BSTRF)\n",
        "\n",
        "print(\"******************************************* RESULTADO COMPARATIVO ***********************************************\")\n",
        "print(\"Acurácia Random Forest normal:                             %0.2f\" % acur_BSTRF)\n",
        "print(\"Desvio Padrão Random Forest - Cross Validated:             %0.2f\" % (scoreCV_BSTRF.std()))\n",
        "print(\"Acurácia CV_RL:                                            %0.2f\" % (scoreCV_BSTRF.mean()))\n",
        "print(\"*****************************************************************************************************************\")"
      ],
      "metadata": {
        "id": "XU3o0pFJAmRc"
      },
      "execution_count": null,
      "outputs": []
    },
    {
      "cell_type": "markdown",
      "source": [
        "#### REGRESSÃO LOGÍSTICA"
      ],
      "metadata": {
        "id": "l7qbI40PBkGb"
      }
    },
    {
      "cell_type": "code",
      "source": [
        "model_BSTRL = LogisticRegression(max_iter=5000)\n",
        "\n",
        "model_BSTRL.fit(x_train2,y2_train)"
      ],
      "metadata": {
        "id": "7Z3hFay3Brsg"
      },
      "execution_count": null,
      "outputs": []
    },
    {
      "cell_type": "code",
      "source": [
        "y_BSTRL = model_BSTRL.predict(x_valid2)"
      ],
      "metadata": {
        "id": "AmSUnGgPB-vt"
      },
      "execution_count": null,
      "outputs": []
    },
    {
      "cell_type": "code",
      "source": [
        "cm = confusion_matrix(y2_valid, y_BSTRL)\n",
        "ConfusionMatrixDisplay(cm).plot();"
      ],
      "metadata": {
        "id": "WQL9NOb2CFJM"
      },
      "execution_count": null,
      "outputs": []
    },
    {
      "cell_type": "code",
      "source": [
        "acur_BSTRL = metrics.accuracy_score(y2_valid, y_BSTRL)\n",
        "\n",
        "print('Acurácia: ',acur_BSTRL)"
      ],
      "metadata": {
        "id": "LcrmYFsMCILU"
      },
      "execution_count": null,
      "outputs": []
    },
    {
      "cell_type": "code",
      "source": [
        "# CV_BSTRL = Cross Validated REGRESSÃO LOGÍSTICA - Balanceado\n",
        "\n",
        "scoreCV_BSTRL = cross_val_score(model_BSTRF, x_train2, y2_train, cv=5)\n",
        "print(scoreCV_BSTRL)\n",
        "\n",
        "print(\"******************************************* RESULTADO COMPARATIVO ***********************************************\")\n",
        "print(\"Acurácia Regressão Logística normal:                       %0.2f\" % acur_BSTRL)\n",
        "print(\"Desvio Padrão Regressão Logística - Cross Validated:       %0.2f\" % (scoreCV_BSTRL.std()))\n",
        "print(\"Acurácia CV_RL:                                            %0.2f\" % (scoreCV_BSTRL.mean()))\n",
        "print(\"*****************************************************************************************************************\")"
      ],
      "metadata": {
        "id": "YGMimFBZCQmD"
      },
      "execution_count": null,
      "outputs": []
    },
    {
      "cell_type": "markdown",
      "source": [
        "### COM RETIRADA DE MISSING"
      ],
      "metadata": {
        "id": "lPV-k_hpDcv7"
      }
    },
    {
      "cell_type": "markdown",
      "source": [
        "#### SEPARAÇÃO DA BASE EM TAMANHO IGUAL"
      ],
      "metadata": {
        "id": "cEwB_yUBDlby"
      }
    },
    {
      "cell_type": "code",
      "source": [
        "# CRIAÇÃO DE DATAFRAME COM QUANTIDADE IGUAIS DE REGISTROS DO TARGET \n",
        "\n",
        "dftarget_1 = df_missing.loc[df_missing['target']==1]\n",
        "dftarget_0 = df_missing.loc[df_missing['target']==0]\n",
        "\n",
        "# SELECIONA ALEATORIAMENTE A MESMA QUANTIDADE DE REGISTRO DO TARGET 1\n",
        "dftarget_0 = dftarget_0.sample(16425)\n",
        "\n",
        "dftargetMis = pd.merge(dftarget_1, dftarget_0, how = 'outer')\n",
        "\n",
        "\n",
        "print(\"Somente registros TARGET = 1:\" ,    dftarget_1['target'].value_counts())\n",
        "print(\"Somente registros TARGET = 0:\",     dftarget_0['target'].value_counts())\n",
        "print(\"Novo Dataframe Balanceado:\" ,       dftargetMis['target'].value_counts())"
      ],
      "metadata": {
        "id": "kfZTlrvDDudg"
      },
      "execution_count": null,
      "outputs": []
    },
    {
      "cell_type": "markdown",
      "source": [
        "#### SEPARAÇÃO DO DATAFRAME EM TESTE E VALIDAÇÃO"
      ],
      "metadata": {
        "id": "SN333aeJFBdb"
      }
    },
    {
      "cell_type": "code",
      "source": [
        "y2_train = dftargetMis['target'].values\n",
        "id2_train = dftargetMis['id'].values\n",
        "\n",
        "x_train2 = dftargetMis.drop(['target', 'id'], axis=1)"
      ],
      "metadata": {
        "id": "KQtydHbtE2Ev"
      },
      "execution_count": null,
      "outputs": []
    },
    {
      "cell_type": "code",
      "source": [
        "x_train2, x_valid2, y2_train, y2_valid = train_test_split(x_train2, y2_train, test_size=0.2, random_state=4242)\n",
        "\n",
        "print('Registro gerados para Treino: {}'.format(len(x_train2)))\n",
        "print('Registro gerados para Teste: {}'.format(len(x_valid2)))"
      ],
      "metadata": {
        "id": "eajIKXhcE2qP"
      },
      "execution_count": null,
      "outputs": []
    },
    {
      "cell_type": "markdown",
      "source": [
        "#### RANDON FOREST"
      ],
      "metadata": {
        "id": "r9Z2f6diFbAC"
      }
    },
    {
      "cell_type": "code",
      "source": [
        "# BSMRF = BALANCEADA SEM MISSING RANDON FOREST\n",
        "\n",
        "model_BSMRF = RandomForestClassifier(class_weight=\"balanced\", min_samples_split=10, n_jobs=-1)\n",
        "\n",
        "model_BSMRF.fit(x_train2, y2_train)"
      ],
      "metadata": {
        "id": "4dIMuwyWFKHy"
      },
      "execution_count": null,
      "outputs": []
    },
    {
      "cell_type": "code",
      "source": [
        "y_BSMRF = model_BSMRF.predict(x_valid2)"
      ],
      "metadata": {
        "id": "47DDewBRFeQ0"
      },
      "execution_count": null,
      "outputs": []
    },
    {
      "cell_type": "code",
      "source": [
        "cm = confusion_matrix(y2_valid, y_BSMRF)\n",
        "ConfusionMatrixDisplay(cm).plot();"
      ],
      "metadata": {
        "id": "1JdiTxQuFtHp"
      },
      "execution_count": null,
      "outputs": []
    },
    {
      "cell_type": "code",
      "source": [
        "acur_BSMRF = metrics.accuracy_score(y2_valid, y_BSMRF)\n",
        "\n",
        "print('Acurácia: ', acur_BSMRF)"
      ],
      "metadata": {
        "id": "exZZmiG3Fxzv"
      },
      "execution_count": null,
      "outputs": []
    },
    {
      "cell_type": "code",
      "source": [
        "# CV_BSMRF = Cross Validated RANDON FOREST - Balanceado Sem Missing\n",
        "\n",
        "scoreCV_BSMRF = cross_val_score(model_BSMRF, x_train2, y2_train, cv=5)\n",
        "print(scoreCV_BSMRF)\n",
        "\n",
        "print(\"******************************************* RESULTADO COMPARATIVO ***********************************************\")\n",
        "print(\"Acurácia Randon Forest normal:                             %0.2f\" % acur_BSMRF)\n",
        "print(\"Desvio Padrão Randon Forest - Cross Validated:             %0.2f\" % (scoreCV_BSMRF.std()))\n",
        "print(\"Acurácia CV_RL:                                            %0.2f\" % (scoreCV_BSMRF.mean()))\n",
        "print(\"*****************************************************************************************************************\")"
      ],
      "metadata": {
        "id": "OlVWAdjOF51p"
      },
      "execution_count": null,
      "outputs": []
    },
    {
      "cell_type": "markdown",
      "source": [
        "#### REGRESSÃO LOGÍSTICA"
      ],
      "metadata": {
        "id": "XdgwhajGGru3"
      }
    },
    {
      "cell_type": "code",
      "source": [
        "model_BSMRL = LogisticRegression(max_iter=5000)\n",
        "\n",
        "model_BSMRL.fit(x_train2,y2_train)"
      ],
      "metadata": {
        "id": "8DMmdwI9GvIl"
      },
      "execution_count": null,
      "outputs": []
    },
    {
      "cell_type": "code",
      "source": [
        "y_BSMRL = model_BSMRL.predict(x_valid2)"
      ],
      "metadata": {
        "id": "XurlNoGxG0vu"
      },
      "execution_count": null,
      "outputs": []
    },
    {
      "cell_type": "code",
      "source": [
        "cm = confusion_matrix(y2_valid, y_BSMRL)\n",
        "ConfusionMatrixDisplay(cm).plot();"
      ],
      "metadata": {
        "id": "nhhJgY8-G3Ej"
      },
      "execution_count": null,
      "outputs": []
    },
    {
      "cell_type": "code",
      "source": [
        "acur_BSMRL = metrics.accuracy_score(y2_valid, y_BSMRL)\n",
        "\n",
        "print('Acurácia: ',acur_BSMRL)"
      ],
      "metadata": {
        "id": "lMVnqgWKG5pF"
      },
      "execution_count": null,
      "outputs": []
    },
    {
      "cell_type": "code",
      "source": [
        "# CV_BSMRL = Cross Validated REGRESSÃO LOGÍSTICA - Balanceado\n",
        "\n",
        "scoreCV_BSMRL = cross_val_score(model_BSMRL, x_train2, y2_train, cv=5)\n",
        "print(scoreCV_BSMRL)\n",
        "\n",
        "print(\"******************************************* RESULTADO COMPARATIVO ***********************************************\")\n",
        "print(\"Acurácia Regressão Logística normal:                       %0.2f\" % acur_BSMRL)\n",
        "print(\"Desvio Padrão Regressão Logística - Cross Validated:       %0.2f\" % (scoreCV_BSMRL.std()))\n",
        "print(\"Acurácia CV_RL:                                            %0.2f\" % (scoreCV_BSMRL.mean()))\n",
        "print(\"*****************************************************************************************************************\")"
      ],
      "metadata": {
        "id": "q9_2QZjJG7zz"
      },
      "execution_count": null,
      "outputs": []
    },
    {
      "cell_type": "markdown",
      "metadata": {
        "id": "-Jq1MzVCNSwa"
      },
      "source": [
        "#RESULTADO FINAL DE TODOS OS TRATAMENTOS E MODELOS APLICADOS"
      ]
    },
    {
      "cell_type": "code",
      "source": [
        "print(\"******************************************* RESULTADO FINAL *****************************************************\")\n",
        "print(\"  \")\n",
        "print(\"RANDOM FOREST SEM TRATAMENTO E BALANCEAMENTO\")\n",
        "print(\"--------------------------------------------\")\n",
        "print(\"  \")\n",
        "print(\"Acurácia Random Forest normal:                             %0.2f\" % acur_RFST)\n",
        "print(\"Desvio Padrão Random Forest - Cross Validated:             %0.2f\" % (scoreCV_RFsT.std()))\n",
        "print(\"Acurácia CV:                                               %0.2f\" % (scoreCV_RFsT.mean()))\n",
        "print(\"  \")\n",
        "print(\"_________________________________________________________________________________________________________________\")\n",
        "print(\"  \")\n",
        "print(\"REGRESSÃO LOGÍSTICA SEM TRATAMENTO E BALANCEAMENTO\")\n",
        "print(\"--------------------------------------------------\")\n",
        "print(\"  \")\n",
        "print(\"Acurácia Regressão Logística normal:                       %0.2f\" % acur_RLST)\n",
        "print(\"Desvio Padrão Regressão Logística - Cross Validated:       %0.2f\" % (scoreCV_RLsT.std()))\n",
        "print(\"Acurácia CV:                                               %0.2f\" % (scoreCV_RLsT.mean()))\n",
        "print(\"  \")\n",
        "print(\"_________________________________________________________________________________________________________________\")\n",
        "print(\"  \")\n",
        "print(\"RANDOM FOREST - RETIRADA 2 COLUNAS MISSING\")\n",
        "print(\"------------------------------------------\")\n",
        "print(\"  \")\n",
        "print(\"Acurácia Random Forest normal:                             %0.2f\" % acur_M35RF)\n",
        "print(\"Desvio Padrão Random Forest - Cross Validated:             %0.2f\" % (scoreCV_M35RF.std()))\n",
        "print(\"Acurácia CV:                                               %0.2f\" % (scoreCV_M35RF.mean()))\n",
        "print(\"  \")\n",
        "print(\"_________________________________________________________________________________________________________________\")\n",
        "print(\"  \")\n",
        "print(\"REGRESSÃO LOGÍSTICA - RETIRADA 2 COLUNAS MISSING\")\n",
        "print(\"------------------------------------------------\")\n",
        "print(\"  \")\n",
        "print(\"Acurácia Regressão Logística normal:                       %0.2f\" % acur_M35RL)\n",
        "print(\"Desvio Padrão Regressão Logística - Cross Validated:       %0.2f\" % (scoreCV_M35RL.std()))\n",
        "print(\"Acurácia CV:                                               %0.2f\" % (scoreCV_M35RL.mean()))\n",
        "print(\"  \")\n",
        "print(\"_________________________________________________________________________________________________________________\")\n",
        "print(\"  \")\n",
        "print(\"RANDOM FOREST - RETIRADA TODAS LINHAS MISSING\")\n",
        "print(\"----------------------------------------------\")\n",
        "print(\"  \")\n",
        "print(\"Acurácia Random Forest normal:                             %0.2f\" % acur_MALLRF)\n",
        "print(\"Desvio Padrão Random Forest - Cross Validated:             %0.2f\" % (scoreCV_MALLRF.std()))\n",
        "print(\"Acurácia CV:                                               %0.2f\" % (scoreCV_MALLRF.mean()))\n",
        "print(\"  \")\n",
        "print(\"_________________________________________________________________________________________________________________\")\n",
        "print(\"  \")\n",
        "print(\"REGRESSÃO LOGÍSTICA - RETIRADA TODAS LINHAS MISSING\")\n",
        "print(\"----------------------------------------------------\")\n",
        "print(\"  \")\n",
        "print(\"Acurácia Regressão Logística normal:                       %0.2f\" % acur_MALLRL)\n",
        "print(\"Desvio Padrão Regressão Logística - Cross Validated:       %0.2f\" % (scoreCV_MALLRL.std()))\n",
        "print(\"Acurácia CV:                                               %0.2f\" % (scoreCV_MALLRL.mean()))\n",
        "print(\"  \")\n",
        "print(\"_________________________________________________________________________________________________________________\")\n",
        "print(\"  \")\n",
        "print(\"RANDOM FOREST - BALANCEADO SEM TRATAMENTO\")\n",
        "print(\"-----------------------------------------\")\n",
        "print(\"  \")\n",
        "print(\"Acurácia Random Forest normal:                             %0.2f\" % acur_BSTRF)\n",
        "print(\"Desvio Padrão Random Forest - Cross Validated:             %0.2f\" % (scoreCV_BSTRF.std()))\n",
        "print(\"Acurácia CV:                                               %0.2f\" % (scoreCV_BSTRF.mean()))\n",
        "print(\"  \")\n",
        "print(\"_________________________________________________________________________________________________________________\")\n",
        "print(\"  \")\n",
        "print(\"REGRESSÃO LOGÍSTICA - BALANCEADO SEM TRATAMENTO\")\n",
        "print(\"-----------------------------------------------\")\n",
        "print(\"  \")\n",
        "print(\"Acurácia Regressão Logística normal:                       %0.2f\" % acur_BSTRL)\n",
        "print(\"Desvio Padrão Regressão Logística - Cross Validated:       %0.2f\" % (scoreCV_BSTRL.std()))\n",
        "print(\"Acurácia CV:                                               %0.2f\" % (scoreCV_BSTRL.mean()))\n",
        "print(\"  \")\n",
        "print(\"_________________________________________________________________________________________________________________\")\n",
        "print(\"  \")\n",
        "print(\"RANDOM FOREST - BALANCEADO SEM MISSING\")\n",
        "print(\"--------------------------------------\")\n",
        "print(\"  \")\n",
        "print(\"Acurácia Random Forest normal:                             %0.2f\" % acur_BSMRF)\n",
        "print(\"Desvio Padrão Random Forest - Cross Validated:             %0.2f\" % (scoreCV_BSMRF.std()))\n",
        "print(\"Acurácia CV:                                               %0.2f\" % (scoreCV_BSMRF.mean()))\n",
        "print(\"  \")\n",
        "print(\"_________________________________________________________________________________________________________________\")\n",
        "print(\"  \")\n",
        "print(\"REGRESSÃO LOGÍSTICA - BALANCEADO SEM MISSING\")\n",
        "print(\"--------------------------------------------\")\n",
        "print(\"  \")\n",
        "print(\"Acurácia Regressão Logística normal:                       %0.2f\" % acur_BSMRL)\n",
        "print(\"Desvio Padrão Regressão Logística - Cross Validated:       %0.2f\" % (scoreCV_BSMRL.std()))\n",
        "print(\"Acurácia CV:                                               %0.2f\" % (scoreCV_BSMRL.mean()))\n",
        "print(\"  \")\n",
        "print(\"_________________________________________________________________________________________________________________\")\n"
      ],
      "metadata": {
        "id": "qFARilckwXFW"
      },
      "execution_count": null,
      "outputs": []
    }
  ],
  "metadata": {
    "colab": {
      "collapsed_sections": [
        "XUxUJqKmk35D",
        "RXTTsM55lqhK",
        "NUIHmfHuwqL1",
        "r7Uf6aFr7wEn",
        "IrCxNF4o7m_9",
        "zJnkUSIC0dK4",
        "-8va4M2V1lFM",
        "8kzgiFgl423C",
        "BbkaMoAD2ksz",
        "imLG1y7LNaaK",
        "L9NRcu9Izptb",
        "TxD6HF2IzYJH",
        "wMrcUxAwzcEg",
        "-6duvmVA28oh",
        "u3L02pKQ6uRc",
        "psT9FKD42zdd",
        "iHTG4y-u23tS",
        "1hHhniPe4Lz7",
        "Fpnpmlc68NEl",
        "8MLRPKqI86bS",
        "0NSZuAnx8c_u",
        "LO6QWOBL_O2x",
        "LECVNn0i_zYK",
        "l7qbI40PBkGb",
        "lPV-k_hpDcv7",
        "cEwB_yUBDlby",
        "SN333aeJFBdb",
        "r9Z2f6diFbAC",
        "XdgwhajGGru3"
      ],
      "name": "Cópia de Z_Proj_PortoSeguro_v07.ipynb",
      "provenance": []
    },
    "kernelspec": {
      "display_name": "Python 3",
      "name": "python3"
    },
    "language_info": {
      "name": "python"
    }
  },
  "nbformat": 4,
  "nbformat_minor": 0
}